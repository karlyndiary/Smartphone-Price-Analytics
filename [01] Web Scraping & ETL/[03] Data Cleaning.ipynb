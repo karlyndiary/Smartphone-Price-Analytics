{
 "cells": [
  {
   "cell_type": "code",
   "execution_count": 1,
   "id": "173ba519-e0b8-4f77-a9d1-a639b5331db5",
   "metadata": {},
   "outputs": [],
   "source": [
    "import pandas as pd\n",
    "import numpy as np\n",
    "import re"
   ]
  },
  {
   "cell_type": "code",
   "execution_count": 2,
   "id": "59547632-f02c-43c9-b6ab-42110a300e6b",
   "metadata": {},
   "outputs": [
    {
     "data": {
      "text/html": [
       "<div>\n",
       "<style scoped>\n",
       "    .dataframe tbody tr th:only-of-type {\n",
       "        vertical-align: middle;\n",
       "    }\n",
       "\n",
       "    .dataframe tbody tr th {\n",
       "        vertical-align: top;\n",
       "    }\n",
       "\n",
       "    .dataframe thead th {\n",
       "        text-align: right;\n",
       "    }\n",
       "</style>\n",
       "<table border=\"1\" class=\"dataframe\">\n",
       "  <thead>\n",
       "    <tr style=\"text-align: right;\">\n",
       "      <th></th>\n",
       "      <th>Unnamed: 0</th>\n",
       "      <th>id</th>\n",
       "      <th>title</th>\n",
       "      <th>price</th>\n",
       "      <th>original_price</th>\n",
       "      <th>discount</th>\n",
       "      <th>star</th>\n",
       "      <th>ratings_reviews</th>\n",
       "      <th>description</th>\n",
       "      <th>brand</th>\n",
       "      <th>...</th>\n",
       "      <th>screen_size_inch</th>\n",
       "      <th>display</th>\n",
       "      <th>ram</th>\n",
       "      <th>storage</th>\n",
       "      <th>expandable_storage</th>\n",
       "      <th>color</th>\n",
       "      <th>processor</th>\n",
       "      <th>battery</th>\n",
       "      <th>rating</th>\n",
       "      <th>review</th>\n",
       "    </tr>\n",
       "  </thead>\n",
       "  <tbody>\n",
       "    <tr>\n",
       "      <th>0</th>\n",
       "      <td>0</td>\n",
       "      <td>0</td>\n",
       "      <td>Motorola Edge 50 Fusion (Hot Pink, 128 GB)</td>\n",
       "      <td>₹22,999</td>\n",
       "      <td>₹25,999</td>\n",
       "      <td>11% off</td>\n",
       "      <td>4.5</td>\n",
       "      <td>24,505 Ratings &amp; 1,465 Reviews</td>\n",
       "      <td>8 GB RAM | 128 GB ROM17.02 cm (6.7 inch) Full ...</td>\n",
       "      <td>Motorola</td>\n",
       "      <td>...</td>\n",
       "      <td>6.7</td>\n",
       "      <td>Full HD+</td>\n",
       "      <td>8 GB RAM</td>\n",
       "      <td>128 GB</td>\n",
       "      <td>NaN</td>\n",
       "      <td>Hot Pink</td>\n",
       "      <td>7s Gen 2 Processor</td>\n",
       "      <td>5000 mAh Battery</td>\n",
       "      <td>24,505 Ratings</td>\n",
       "      <td>1,465 Reviews</td>\n",
       "    </tr>\n",
       "    <tr>\n",
       "      <th>1</th>\n",
       "      <td>1</td>\n",
       "      <td>1</td>\n",
       "      <td>Motorola G34 5G (Ice Blue, 128 GB)</td>\n",
       "      <td>₹11,999</td>\n",
       "      <td>₹14,999</td>\n",
       "      <td>20% off</td>\n",
       "      <td>4.2</td>\n",
       "      <td>1,06,420 Ratings &amp; 7,385 Reviews</td>\n",
       "      <td>8 GB RAM | 128 GB ROM16.51 cm (6.5 inch) HD+ D...</td>\n",
       "      <td>Motorola</td>\n",
       "      <td>...</td>\n",
       "      <td>6.5</td>\n",
       "      <td>HD+</td>\n",
       "      <td>8 GB RAM</td>\n",
       "      <td>128 GB</td>\n",
       "      <td>NaN</td>\n",
       "      <td>Ice Blue</td>\n",
       "      <td>Snapdragon 695 5G Processor</td>\n",
       "      <td>5000 mAh Battery</td>\n",
       "      <td>1,06,420 Ratings</td>\n",
       "      <td>7,385 Reviews</td>\n",
       "    </tr>\n",
       "  </tbody>\n",
       "</table>\n",
       "<p>2 rows × 23 columns</p>\n",
       "</div>"
      ],
      "text/plain": [
       "   Unnamed: 0  id                                       title    price  \\\n",
       "0           0   0  Motorola Edge 50 Fusion (Hot Pink, 128 GB)  ₹22,999   \n",
       "1           1   1          Motorola G34 5G (Ice Blue, 128 GB)  ₹11,999   \n",
       "\n",
       "  original_price discount  star                   ratings_reviews  \\\n",
       "0        ₹25,999  11% off   4.5    24,505 Ratings & 1,465 Reviews   \n",
       "1        ₹14,999  20% off   4.2  1,06,420 Ratings & 7,385 Reviews   \n",
       "\n",
       "                                         description     brand  ...  \\\n",
       "0  8 GB RAM | 128 GB ROM17.02 cm (6.7 inch) Full ...  Motorola  ...   \n",
       "1  8 GB RAM | 128 GB ROM16.51 cm (6.5 inch) HD+ D...  Motorola  ...   \n",
       "\n",
       "  screen_size_inch   display       ram  storage expandable_storage     color  \\\n",
       "0              6.7  Full HD+  8 GB RAM   128 GB                NaN  Hot Pink   \n",
       "1              6.5       HD+  8 GB RAM   128 GB                NaN  Ice Blue   \n",
       "\n",
       "                     processor           battery            rating  \\\n",
       "0           7s Gen 2 Processor  5000 mAh Battery    24,505 Ratings   \n",
       "1  Snapdragon 695 5G Processor  5000 mAh Battery  1,06,420 Ratings   \n",
       "\n",
       "          review  \n",
       "0  1,465 Reviews  \n",
       "1  7,385 Reviews  \n",
       "\n",
       "[2 rows x 23 columns]"
      ]
     },
     "execution_count": 2,
     "metadata": {},
     "output_type": "execute_result"
    }
   ],
   "source": [
    "df = pd.read_csv(r'C:\\Users\\KAREN J FERNANDES\\anaconda3\\Files\\Projects\\Flipkart Web Scraping\\data_extraction_phones_dataset.csv')\n",
    "df.head(2)"
   ]
  },
  {
   "cell_type": "code",
   "execution_count": 3,
   "id": "49afcebb-2ae4-443e-9068-8ae769001193",
   "metadata": {},
   "outputs": [],
   "source": [
    "# drop Unnamed: 0 column\n",
    "df.drop(columns=['Unnamed: 0'], inplace=True)"
   ]
  },
  {
   "cell_type": "code",
   "execution_count": 4,
   "id": "3c54c765-b4dc-451e-842b-9834924627d9",
   "metadata": {},
   "outputs": [],
   "source": [
    "# convert the title names to proper case\n",
    "df['title'] = df['title'].str.title()"
   ]
  },
  {
   "cell_type": "code",
   "execution_count": 5,
   "id": "2c4b87a1-bcf1-4354-a5fa-a5e4f9879d6c",
   "metadata": {},
   "outputs": [],
   "source": [
    "# cleaning out currency symbol and comma from price column\n",
    "df['price'] = df['price'].str.replace(r'[₹,]','', regex=True)\n",
    "df['original_price'] = df['original_price'].str.replace(r'[₹,]','', regex=True)"
   ]
  },
  {
   "cell_type": "code",
   "execution_count": 6,
   "id": "907fe628-6059-4cb7-a347-147c6f4904fb",
   "metadata": {},
   "outputs": [],
   "source": [
    "# cleaning out % off from discount column\n",
    "df['discount'] = df['discount'].str.replace(r'% off','', regex=True)"
   ]
  },
  {
   "cell_type": "code",
   "execution_count": 7,
   "id": "3d0fe54a-eecd-45e0-aa79-e008f2665c97",
   "metadata": {},
   "outputs": [],
   "source": [
    "# convert the brand names to proper case\n",
    "df['brand'] = df['brand'].str.title()"
   ]
  },
  {
   "cell_type": "code",
   "execution_count": 8,
   "id": "a310833e-dc6b-4bc2-97ee-d0b494e45b7b",
   "metadata": {},
   "outputs": [],
   "source": [
    "# convert the model names to proper case\n",
    "df['model'] = df['model'].str.title()"
   ]
  },
  {
   "cell_type": "code",
   "execution_count": 9,
   "id": "a5f4e97a-495e-4757-b248-d8d43b7ef012",
   "metadata": {},
   "outputs": [],
   "source": [
    "# convert screen_size_inch to numeric, forcing errors to NaN\n",
    "df['screen_size_inch'] = pd.to_numeric(df['screen_size_inch'], errors='coerce')\n",
    "\n",
    "# Define function to fill display based on screen size\n",
    "def assign_display_type(row):\n",
    "    screen_size = row['screen_size_inch']\n",
    "    \n",
    "    if pd.isna(row['display']):\n",
    "        if screen_size < 3:\n",
    "            display_type = 'QVGA'\n",
    "        elif 3 <= screen_size < 5.5:\n",
    "            display_type = 'HD'\n",
    "        elif 5.5 <= screen_size < 6:\n",
    "            display_type = 'HD+'\n",
    "        else:\n",
    "            display_type = 'Full HD+'\n",
    "        return display_type\n",
    "    return row['display']\n",
    "\n",
    "# Apply function to fill missing display values\n",
    "df['display'] = df.apply(assign_display_type, axis=1)"
   ]
  },
  {
   "cell_type": "code",
   "execution_count": 10,
   "id": "c67dcf5a-fa84-477b-a411-dda00b2248ed",
   "metadata": {},
   "outputs": [],
   "source": [
    "# clearing out 'RAM'\n",
    "df['ram'] = df['ram'].str.replace(r' RAM', '', regex=True)"
   ]
  },
  {
   "cell_type": "code",
   "execution_count": 11,
   "id": "bf61d7ab-0d51-4879-935c-09419688d830",
   "metadata": {},
   "outputs": [],
   "source": [
    "# By research, it was found that the values of 'ram' are the same for 'storage' as well.\n",
    "# Fill NaN values in 'storage' with corresponding 'ram' values where 'storage' is NaN\n",
    "df['storage'] = df['storage'].fillna(df['ram'])"
   ]
  },
  {
   "cell_type": "code",
   "execution_count": 12,
   "id": "0533aa68-8e60-4892-88f2-8276bd8d7cff",
   "metadata": {},
   "outputs": [],
   "source": [
    "# Define a function to update processor information\n",
    "def extract_processor(model):\n",
    "    if pd.isna(model):\n",
    "        return None\n",
    "    if re.search('Apple iPhone 15 Plus', model, re.IGNORECASE):  \n",
    "        return 'A16 Bionic Processor'\n",
    "    elif re.search('Apple iPhone 15', model, re.IGNORECASE): \n",
    "        return 'A16 Bionic Processor'\n",
    "    elif re.search('Apple iPhone 14 Plus', model, re.IGNORECASE): \n",
    "        return 'A15 Bionic Processor'\n",
    "    elif re.search('SAMSUNG Galaxy M14 4G', model, re.IGNORECASE): \n",
    "        return 'Snapdragon 680 Processor'\n",
    "    elif re.search('SAMSUNG Galaxy M34 5G', model, re.IGNORECASE): \n",
    "        return 'Exynos 1280 Processor'\n",
    "    elif re.search('OnePlus Nord CE 3 Lite 5G', model, re.IGNORECASE): \n",
    "        return 'Qualcomm Snapdragon 695 Processor'\n",
    "    elif re.search('Realme Narzo N63 4G', model, re.IGNORECASE): \n",
    "        return 'Mediatek Processor'\n",
    "    elif re.search('Realme Narzo N63', model, re.IGNORECASE): \n",
    "        return 'Unisoc Processor'\n",
    "    elif re.search('Redmi 13C 5G', model, re.IGNORECASE): \n",
    "        return 'Mediatek Processor'\n",
    "    else:\n",
    "        return None\n",
    "\n",
    "# Apply the function to update the 'processor' column\n",
    "df['processor'] = df.apply(lambda row: extract_processor(row['model']) if pd.isna(row['processor']) else row['processor'], axis=1)"
   ]
  },
  {
   "cell_type": "code",
   "execution_count": 13,
   "id": "3de64383-6161-47b9-afbb-cb8af88d6a97",
   "metadata": {},
   "outputs": [],
   "source": [
    "# no brand of NA Processor available\n",
    "df['processor'] = df['processor'].str.replace(r'NA Processor','', regex = True)"
   ]
  },
  {
   "cell_type": "code",
   "execution_count": 14,
   "id": "66ea4f6f-4483-413e-a43a-0f7b2815e3c8",
   "metadata": {},
   "outputs": [],
   "source": [
    "# Define a function to update battery information\n",
    "def extract_battery(model):\n",
    "    if pd.isna(model):\n",
    "        return None\n",
    "    if re.search('Apple iPhone 15 Plus', model, re.IGNORECASE):  \n",
    "        return '4383 mAh Battery'\n",
    "    elif re.search('Apple iPhone 15', model, re.IGNORECASE): \n",
    "        return '3349 mAh Battery'\n",
    "    elif re.search('Apple iPhone 14 Plus', model, re.IGNORECASE): \n",
    "        return '3279 mAh Battery'\n",
    "    else:\n",
    "        return None\n",
    "\n",
    "# Apply the function to update the 'battery' column\n",
    "df['battery'] = df.apply(lambda row: extract_battery(row['model']) if pd.isna(row['battery']) else row['battery'], axis=1)"
   ]
  },
  {
   "cell_type": "code",
   "execution_count": 15,
   "id": "d53c6399-4ba4-4c52-8af9-9409f79d7ce8",
   "metadata": {},
   "outputs": [],
   "source": [
    "df['battery'] = df['battery'].str.replace(r'(?i)Lithium Ion', '', regex = True)"
   ]
  },
  {
   "cell_type": "code",
   "execution_count": 16,
   "id": "1307f941-ad00-45f0-a2fd-bccff78c8d81",
   "metadata": {},
   "outputs": [],
   "source": [
    "# making it a numeric column\n",
    "df['rating'] = df['rating'].str.replace(r'[Ratings,]','', regex = True)"
   ]
  },
  {
   "cell_type": "code",
   "execution_count": 17,
   "id": "6f876b42-7f0d-4f98-be3a-6fe83ebe16f5",
   "metadata": {},
   "outputs": [],
   "source": [
    "# making it a numeric column\n",
    "df['review'] = df['review'].str.replace(r'[Reviews,]','', regex = True)"
   ]
  },
  {
   "cell_type": "code",
   "execution_count": 18,
   "id": "5ebceee0-c227-4c27-955f-5f7b0f1f1fc6",
   "metadata": {},
   "outputs": [
    {
     "data": {
      "text/plain": [
       "id                      int64\n",
       "title                  object\n",
       "price                  object\n",
       "original_price         object\n",
       "discount               object\n",
       "star                  float64\n",
       "ratings_reviews        object\n",
       "description            object\n",
       "brand                  object\n",
       "model                  object\n",
       "camera                 object\n",
       "screen_size_cm        float64\n",
       "screen_size_inch      float64\n",
       "display                object\n",
       "ram                    object\n",
       "storage                object\n",
       "expandable_storage     object\n",
       "color                  object\n",
       "processor              object\n",
       "battery                object\n",
       "rating                 object\n",
       "review                 object\n",
       "dtype: object"
      ]
     },
     "execution_count": 18,
     "metadata": {},
     "output_type": "execute_result"
    }
   ],
   "source": [
    "# checking datatypes\n",
    "df.dtypes"
   ]
  },
  {
   "cell_type": "code",
   "execution_count": 19,
   "id": "50dc2414-409a-4a60-94ea-73565cfea206",
   "metadata": {},
   "outputs": [],
   "source": [
    "# updating price, original_price, discount, rating, review to int\n",
    "columns = ['price','original_price','discount','rating','review']\n",
    "\n",
    "for column in columns:\n",
    "    df[column] = df[column].astype(int)"
   ]
  },
  {
   "cell_type": "code",
   "execution_count": 20,
   "id": "40164e56-e84a-4166-88d6-b57d44feb4e8",
   "metadata": {},
   "outputs": [],
   "source": [
    "df['screen_size_cm'] = df['screen_size_cm'].astype(float)"
   ]
  },
  {
   "cell_type": "code",
   "execution_count": 21,
   "id": "25427ac0-9f0d-456f-a970-d9d692af94d1",
   "metadata": {},
   "outputs": [],
   "source": [
    "# renaming column\n",
    "df.to_csv('cleaned_phones_dataset.csv')"
   ]
  },
  {
   "cell_type": "code",
   "execution_count": 22,
   "id": "f77b81c6-1b50-47fd-ab84-895ecbede2b5",
   "metadata": {},
   "outputs": [
    {
     "data": {
      "text/plain": [
       "Index(['id', 'title', 'price', 'original_price', 'discount', 'star',\n",
       "       'ratings_reviews', 'description', 'brand', 'model', 'camera',\n",
       "       'screen_size_cm', 'screen_size_inch', 'display', 'ram', 'storage',\n",
       "       'expandable_storage', 'color', 'processor', 'battery', 'rating',\n",
       "       'review'],\n",
       "      dtype='object')"
      ]
     },
     "execution_count": 22,
     "metadata": {},
     "output_type": "execute_result"
    }
   ],
   "source": [
    "df.columns"
   ]
  },
  {
   "cell_type": "code",
   "execution_count": null,
   "id": "a03209d2-4b86-4ff1-b28f-72eda96cb3f7",
   "metadata": {},
   "outputs": [],
   "source": []
  }
 ],
 "metadata": {
  "kernelspec": {
   "display_name": "Python 3 (ipykernel)",
   "language": "python",
   "name": "python3"
  },
  "language_info": {
   "codemirror_mode": {
    "name": "ipython",
    "version": 3
   },
   "file_extension": ".py",
   "mimetype": "text/x-python",
   "name": "python",
   "nbconvert_exporter": "python",
   "pygments_lexer": "ipython3",
   "version": "3.9.13"
  }
 },
 "nbformat": 4,
 "nbformat_minor": 5
}
