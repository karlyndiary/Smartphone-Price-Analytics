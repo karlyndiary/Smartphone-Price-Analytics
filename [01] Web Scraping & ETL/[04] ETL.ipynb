{
 "cells": [
  {
   "cell_type": "code",
   "execution_count": 1,
   "id": "f8f55d67-66f2-44b7-8e42-d7644eb1ed7a",
   "metadata": {},
   "outputs": [],
   "source": [
    "import pandas as pd\n",
    "import pyodbc\n",
    "from sqlalchemy import create_engine\n",
    "import urllib"
   ]
  },
  {
   "cell_type": "code",
   "execution_count": 2,
   "id": "5cb901d1-ccea-4d48-b41e-4d05ef7d5d18",
   "metadata": {},
   "outputs": [
    {
     "data": {
      "text/html": [
       "<div>\n",
       "<style scoped>\n",
       "    .dataframe tbody tr th:only-of-type {\n",
       "        vertical-align: middle;\n",
       "    }\n",
       "\n",
       "    .dataframe tbody tr th {\n",
       "        vertical-align: top;\n",
       "    }\n",
       "\n",
       "    .dataframe thead th {\n",
       "        text-align: right;\n",
       "    }\n",
       "</style>\n",
       "<table border=\"1\" class=\"dataframe\">\n",
       "  <thead>\n",
       "    <tr style=\"text-align: right;\">\n",
       "      <th></th>\n",
       "      <th>Unnamed: 0</th>\n",
       "      <th>id</th>\n",
       "      <th>title</th>\n",
       "      <th>price</th>\n",
       "      <th>original_price</th>\n",
       "      <th>discount</th>\n",
       "      <th>star</th>\n",
       "      <th>ratings_reviews</th>\n",
       "      <th>description</th>\n",
       "      <th>brand</th>\n",
       "      <th>...</th>\n",
       "      <th>screen_size_inch</th>\n",
       "      <th>display</th>\n",
       "      <th>ram</th>\n",
       "      <th>storage</th>\n",
       "      <th>expandable_storage</th>\n",
       "      <th>color</th>\n",
       "      <th>processor</th>\n",
       "      <th>battery</th>\n",
       "      <th>rating</th>\n",
       "      <th>review</th>\n",
       "    </tr>\n",
       "  </thead>\n",
       "  <tbody>\n",
       "    <tr>\n",
       "      <th>0</th>\n",
       "      <td>0</td>\n",
       "      <td>0</td>\n",
       "      <td>Motorola Edge 50 Fusion (Hot Pink, 128 Gb)</td>\n",
       "      <td>22999</td>\n",
       "      <td>25999</td>\n",
       "      <td>11</td>\n",
       "      <td>4.5</td>\n",
       "      <td>24,505 Ratings &amp; 1,465 Reviews</td>\n",
       "      <td>8 GB RAM | 128 GB ROM17.02 cm (6.7 inch) Full ...</td>\n",
       "      <td>Motorola</td>\n",
       "      <td>...</td>\n",
       "      <td>6.7</td>\n",
       "      <td>Full HD+</td>\n",
       "      <td>8 GB</td>\n",
       "      <td>128 GB</td>\n",
       "      <td>NaN</td>\n",
       "      <td>Hot Pink</td>\n",
       "      <td>7s Gen 2 Processor</td>\n",
       "      <td>5000 mAh Battery</td>\n",
       "      <td>24505</td>\n",
       "      <td>1465</td>\n",
       "    </tr>\n",
       "    <tr>\n",
       "      <th>1</th>\n",
       "      <td>1</td>\n",
       "      <td>1</td>\n",
       "      <td>Motorola G34 5G (Ice Blue, 128 Gb)</td>\n",
       "      <td>11999</td>\n",
       "      <td>14999</td>\n",
       "      <td>20</td>\n",
       "      <td>4.2</td>\n",
       "      <td>1,06,420 Ratings &amp; 7,385 Reviews</td>\n",
       "      <td>8 GB RAM | 128 GB ROM16.51 cm (6.5 inch) HD+ D...</td>\n",
       "      <td>Motorola</td>\n",
       "      <td>...</td>\n",
       "      <td>6.5</td>\n",
       "      <td>HD+</td>\n",
       "      <td>8 GB</td>\n",
       "      <td>128 GB</td>\n",
       "      <td>NaN</td>\n",
       "      <td>Ice Blue</td>\n",
       "      <td>Snapdragon 695 5G Processor</td>\n",
       "      <td>5000 mAh Battery</td>\n",
       "      <td>106420</td>\n",
       "      <td>7385</td>\n",
       "    </tr>\n",
       "  </tbody>\n",
       "</table>\n",
       "<p>2 rows × 23 columns</p>\n",
       "</div>"
      ],
      "text/plain": [
       "   Unnamed: 0  id                                       title  price  \\\n",
       "0           0   0  Motorola Edge 50 Fusion (Hot Pink, 128 Gb)  22999   \n",
       "1           1   1          Motorola G34 5G (Ice Blue, 128 Gb)  11999   \n",
       "\n",
       "   original_price  discount  star                   ratings_reviews  \\\n",
       "0           25999        11   4.5    24,505 Ratings & 1,465 Reviews   \n",
       "1           14999        20   4.2  1,06,420 Ratings & 7,385 Reviews   \n",
       "\n",
       "                                         description     brand  ...  \\\n",
       "0  8 GB RAM | 128 GB ROM17.02 cm (6.7 inch) Full ...  Motorola  ...   \n",
       "1  8 GB RAM | 128 GB ROM16.51 cm (6.5 inch) HD+ D...  Motorola  ...   \n",
       "\n",
       "  screen_size_inch   display   ram  storage expandable_storage     color  \\\n",
       "0              6.7  Full HD+  8 GB   128 GB                NaN  Hot Pink   \n",
       "1              6.5       HD+  8 GB   128 GB                NaN  Ice Blue   \n",
       "\n",
       "                     processor           battery  rating review  \n",
       "0           7s Gen 2 Processor  5000 mAh Battery   24505   1465  \n",
       "1  Snapdragon 695 5G Processor  5000 mAh Battery  106420   7385  \n",
       "\n",
       "[2 rows x 23 columns]"
      ]
     },
     "execution_count": 2,
     "metadata": {},
     "output_type": "execute_result"
    }
   ],
   "source": [
    "df = pd.read_csv(r'C:\\Users\\KAREN J FERNANDES\\anaconda3\\Files\\Projects\\Flipkart Web Scraping\\cleaned_phones_dataset.csv')\n",
    "df.head(2)"
   ]
  },
  {
   "cell_type": "code",
   "execution_count": 4,
   "id": "1250ab11-9145-4762-95e7-544e3cdd86e6",
   "metadata": {},
   "outputs": [],
   "source": [
    "# drop Unnamed: 0 column\n",
    "df.drop(columns=['Unnamed: 0'], inplace=True)"
   ]
  },
  {
   "cell_type": "code",
   "execution_count": 6,
   "id": "71711f8d-6173-442b-9b13-8f2e3cfed4e1",
   "metadata": {},
   "outputs": [
    {
     "data": {
      "text/plain": [
       "id                      int64\n",
       "title                  object\n",
       "price                   int64\n",
       "original_price          int64\n",
       "discount                int64\n",
       "star                  float64\n",
       "ratings_reviews        object\n",
       "description            object\n",
       "brand                  object\n",
       "model                  object\n",
       "camera                 object\n",
       "screen_size_cm        float64\n",
       "screen_size_inch      float64\n",
       "display                object\n",
       "ram                    object\n",
       "storage                object\n",
       "expandable_storage     object\n",
       "color                  object\n",
       "processor              object\n",
       "battery                object\n",
       "rating                  int64\n",
       "review                  int64\n",
       "dtype: object"
      ]
     },
     "execution_count": 6,
     "metadata": {},
     "output_type": "execute_result"
    }
   ],
   "source": [
    "df.dtypes"
   ]
  },
  {
   "cell_type": "code",
   "execution_count": 7,
   "id": "4ffb22b8-4f9c-42da-b9fe-4f5267cdb8db",
   "metadata": {},
   "outputs": [],
   "source": [
    "server = 'localhost'\n",
    "database = 'Flipkart'\n",
    "username = 'sa'\n",
    "password = 'Ghkukikukmehaha6.'\n",
    "\n",
    "# Create a connection string\n",
    "connection_string = f\"mssql+pyodbc://{username}:{urllib.parse.quote_plus(password)}@{server}/{database}?driver=ODBC+Driver+17+for+SQL+Server\"\n",
    "engine = create_engine(connection_string)"
   ]
  },
  {
   "cell_type": "code",
   "execution_count": 8,
   "id": "d1c22849-b02f-4f8d-bf2b-a1b2b522b92f",
   "metadata": {},
   "outputs": [
    {
     "name": "stdout",
     "output_type": "stream",
     "text": [
      "Connection successful!\n"
     ]
    }
   ],
   "source": [
    "try:\n",
    "    with engine.connect() as connection:\n",
    "        print(\"Connection successful!\")\n",
    "except Exception as e:\n",
    "    print(f\"Connection failed: {e}\")"
   ]
  },
  {
   "cell_type": "code",
   "execution_count": 9,
   "id": "805cd562-aa31-4b1c-8ad2-74dccf21d02d",
   "metadata": {},
   "outputs": [
    {
     "name": "stdout",
     "output_type": "stream",
     "text": [
      "Data loaded successfully!\n"
     ]
    }
   ],
   "source": [
    "table_name = 'Phones'\n",
    "try:\n",
    "    df.to_sql(table_name, engine, if_exists='append', index=False)\n",
    "    print(\"Data loaded successfully!\")\n",
    "except Exception as e:\n",
    "    print(f\"Data load failed: {e}\")"
   ]
  },
  {
   "cell_type": "code",
   "execution_count": null,
   "id": "355c672c-434d-4b75-a345-b40f11b42d88",
   "metadata": {},
   "outputs": [],
   "source": []
  }
 ],
 "metadata": {
  "kernelspec": {
   "display_name": "Python 3 (ipykernel)",
   "language": "python",
   "name": "python3"
  },
  "language_info": {
   "codemirror_mode": {
    "name": "ipython",
    "version": 3
   },
   "file_extension": ".py",
   "mimetype": "text/x-python",
   "name": "python",
   "nbconvert_exporter": "python",
   "pygments_lexer": "ipython3",
   "version": "3.9.13"
  }
 },
 "nbformat": 4,
 "nbformat_minor": 5
}
