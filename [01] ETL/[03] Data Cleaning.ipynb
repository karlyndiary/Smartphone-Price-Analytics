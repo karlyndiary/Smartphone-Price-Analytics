{
 "cells": [
  {
   "cell_type": "code",
   "execution_count": 1,
   "id": "173ba519-e0b8-4f77-a9d1-a639b5331db5",
   "metadata": {},
   "outputs": [],
   "source": [
    "import pandas as pd\n",
    "import numpy as np\n",
    "import re\n",
    "\n",
    "import warnings\n",
    "warnings.filterwarnings('ignore')"
   ]
  },
  {
   "cell_type": "code",
   "execution_count": 2,
   "id": "59547632-f02c-43c9-b6ab-42110a300e6b",
   "metadata": {},
   "outputs": [
    {
     "data": {
      "text/html": [
       "<div>\n",
       "<style scoped>\n",
       "    .dataframe tbody tr th:only-of-type {\n",
       "        vertical-align: middle;\n",
       "    }\n",
       "\n",
       "    .dataframe tbody tr th {\n",
       "        vertical-align: top;\n",
       "    }\n",
       "\n",
       "    .dataframe thead th {\n",
       "        text-align: right;\n",
       "    }\n",
       "</style>\n",
       "<table border=\"1\" class=\"dataframe\">\n",
       "  <thead>\n",
       "    <tr style=\"text-align: right;\">\n",
       "      <th></th>\n",
       "      <th>Unnamed: 0.1</th>\n",
       "      <th>Unnamed: 0</th>\n",
       "      <th>title</th>\n",
       "      <th>price</th>\n",
       "      <th>original_price</th>\n",
       "      <th>discount</th>\n",
       "      <th>star</th>\n",
       "      <th>ratings_reviews</th>\n",
       "      <th>description</th>\n",
       "      <th>brand</th>\n",
       "      <th>...</th>\n",
       "      <th>screen_size_inch</th>\n",
       "      <th>display</th>\n",
       "      <th>ram</th>\n",
       "      <th>storage</th>\n",
       "      <th>expandable_storage</th>\n",
       "      <th>color</th>\n",
       "      <th>processor</th>\n",
       "      <th>battery</th>\n",
       "      <th>rating</th>\n",
       "      <th>review</th>\n",
       "    </tr>\n",
       "  </thead>\n",
       "  <tbody>\n",
       "    <tr>\n",
       "      <th>0</th>\n",
       "      <td>0</td>\n",
       "      <td>0</td>\n",
       "      <td>Apple iPhone 15 (Black, 128 GB)</td>\n",
       "      <td>₹64,999</td>\n",
       "      <td>₹79,600</td>\n",
       "      <td>18% off</td>\n",
       "      <td>4.6</td>\n",
       "      <td>47,150 Ratings &amp; 2,494 Reviews</td>\n",
       "      <td>128 GB ROM15.49 cm (6.1 inch) Super Retina XDR...</td>\n",
       "      <td>Apple</td>\n",
       "      <td>...</td>\n",
       "      <td>6.10</td>\n",
       "      <td>Super Retina XDR</td>\n",
       "      <td>NaN</td>\n",
       "      <td>128 GB</td>\n",
       "      <td>NaN</td>\n",
       "      <td>Black</td>\n",
       "      <td>A16 Bionic Chip, 6 Core Processor Processor</td>\n",
       "      <td>NaN</td>\n",
       "      <td>47,150 Ratings</td>\n",
       "      <td>2,494 Reviews</td>\n",
       "    </tr>\n",
       "    <tr>\n",
       "      <th>1</th>\n",
       "      <td>1</td>\n",
       "      <td>1</td>\n",
       "      <td>MOTOROLA Edge 50 (Koala Grey, 256 GB)</td>\n",
       "      <td>₹27,999</td>\n",
       "      <td>₹32,999</td>\n",
       "      <td>15% off</td>\n",
       "      <td>4.3</td>\n",
       "      <td>1,465 Ratings &amp; 101 Reviews</td>\n",
       "      <td>8 GB RAM | 256 GB ROM16.94 cm (6.67 inch) Disp...</td>\n",
       "      <td>MOTOROLA</td>\n",
       "      <td>...</td>\n",
       "      <td>6.67</td>\n",
       "      <td>NaN</td>\n",
       "      <td>8 GB RAM</td>\n",
       "      <td>256 GB</td>\n",
       "      <td>NaN</td>\n",
       "      <td>Koala Grey</td>\n",
       "      <td>Snapdragon 7 Gen 1 Accelerated Edition Processor</td>\n",
       "      <td>5000 mAh Battery</td>\n",
       "      <td>1,465 Ratings</td>\n",
       "      <td>101 Reviews</td>\n",
       "    </tr>\n",
       "  </tbody>\n",
       "</table>\n",
       "<p>2 rows × 23 columns</p>\n",
       "</div>"
      ],
      "text/plain": [
       "   Unnamed: 0.1  Unnamed: 0                                  title    price  \\\n",
       "0             0           0        Apple iPhone 15 (Black, 128 GB)  ₹64,999   \n",
       "1             1           1  MOTOROLA Edge 50 (Koala Grey, 256 GB)  ₹27,999   \n",
       "\n",
       "  original_price discount  star                 ratings_reviews  \\\n",
       "0        ₹79,600  18% off   4.6  47,150 Ratings & 2,494 Reviews   \n",
       "1        ₹32,999  15% off   4.3     1,465 Ratings & 101 Reviews   \n",
       "\n",
       "                                         description     brand  ...  \\\n",
       "0  128 GB ROM15.49 cm (6.1 inch) Super Retina XDR...     Apple  ...   \n",
       "1  8 GB RAM | 256 GB ROM16.94 cm (6.67 inch) Disp...  MOTOROLA  ...   \n",
       "\n",
       "  screen_size_inch           display       ram  storage expandable_storage  \\\n",
       "0             6.10  Super Retina XDR       NaN   128 GB                NaN   \n",
       "1             6.67               NaN  8 GB RAM   256 GB                NaN   \n",
       "\n",
       "        color                                         processor  \\\n",
       "0       Black       A16 Bionic Chip, 6 Core Processor Processor   \n",
       "1  Koala Grey  Snapdragon 7 Gen 1 Accelerated Edition Processor   \n",
       "\n",
       "            battery          rating         review  \n",
       "0               NaN  47,150 Ratings  2,494 Reviews  \n",
       "1  5000 mAh Battery   1,465 Ratings    101 Reviews  \n",
       "\n",
       "[2 rows x 23 columns]"
      ]
     },
     "execution_count": 2,
     "metadata": {},
     "output_type": "execute_result"
    }
   ],
   "source": [
    "df = pd.read_csv(r'C:\\Users\\Karen Fernandes\\anaconda3\\Files\\Projects\\Web Scraping\\data_extraction_phones_dataset.csv')\n",
    "df.head(2)"
   ]
  },
  {
   "cell_type": "code",
   "execution_count": 3,
   "id": "21b57603-eb13-4f70-9f3e-460c441b0546",
   "metadata": {},
   "outputs": [
    {
     "data": {
      "text/plain": [
       "(480, 23)"
      ]
     },
     "execution_count": 3,
     "metadata": {},
     "output_type": "execute_result"
    }
   ],
   "source": [
    "df.shape"
   ]
  },
  {
   "cell_type": "code",
   "execution_count": 4,
   "id": "49afcebb-2ae4-443e-9068-8ae769001193",
   "metadata": {},
   "outputs": [],
   "source": [
    "# drop Unnamed: 0 column\n",
    "df.drop(columns=['Unnamed: 0.1', 'Unnamed: 0'], inplace=True)"
   ]
  },
  {
   "cell_type": "code",
   "execution_count": 5,
   "id": "3c54c765-b4dc-451e-842b-9834924627d9",
   "metadata": {},
   "outputs": [],
   "source": [
    "# convert the title names to proper case\n",
    "df['title'] = df['title'].str.title()"
   ]
  },
  {
   "cell_type": "code",
   "execution_count": 6,
   "id": "2c4b87a1-bcf1-4354-a5fa-a5e4f9879d6c",
   "metadata": {},
   "outputs": [],
   "source": [
    "# cleaning out currency symbol and comma from price column\n",
    "df['price'] = df['price'].str.replace(r'[₹,]','', regex=True)\n",
    "df['original_price'] = df['original_price'].str.replace(r'[₹,]','', regex=True)"
   ]
  },
  {
   "cell_type": "code",
   "execution_count": 7,
   "id": "907fe628-6059-4cb7-a347-147c6f4904fb",
   "metadata": {},
   "outputs": [],
   "source": [
    "# cleaning out % off from discount column\n",
    "df['discount'] = df['discount'].str.replace(r'% off','', regex=True)"
   ]
  },
  {
   "cell_type": "code",
   "execution_count": 8,
   "id": "3d0fe54a-eecd-45e0-aa79-e008f2665c97",
   "metadata": {},
   "outputs": [],
   "source": [
    "# convert the brand names to proper case\n",
    "df['brand'] = df['brand'].str.title()"
   ]
  },
  {
   "cell_type": "code",
   "execution_count": 9,
   "id": "a310833e-dc6b-4bc2-97ee-d0b494e45b7b",
   "metadata": {},
   "outputs": [],
   "source": [
    "# convert the model names to proper case\n",
    "df['model'] = df['model'].str.title()"
   ]
  },
  {
   "cell_type": "code",
   "execution_count": 10,
   "id": "0a4373d8-01e0-463e-8bdc-e089f65e714a",
   "metadata": {},
   "outputs": [],
   "source": [
    "# extract rear camera\n",
    "df['rear_camera'] = df['camera'].str.extract(r'(\\d+MP) Rear Camera')\n",
    "df['rear_camera'] = df['rear_camera'].fillna(df['camera'].str.extract(r'(\\d+MP)').iloc[:, 0])"
   ]
  },
  {
   "cell_type": "code",
   "execution_count": 11,
   "id": "38afb890-177a-47f6-b63e-1dacc41d56f7",
   "metadata": {},
   "outputs": [],
   "source": [
    "# extract front camera\n",
    "df['front_camera'] = df['camera'].str.extract(r'(\\d+MP) Front Camera')\n",
    "df['front_camera'] = df['front_camera'].fillna(df['camera'].str.extract(r'\\+ (\\d+MP)').iloc[:, 0])"
   ]
  },
  {
   "cell_type": "code",
   "execution_count": 12,
   "id": "6efdc90f-ad88-4d82-b7d4-f8f7e5a9507f",
   "metadata": {},
   "outputs": [],
   "source": [
    "# clearing out 'MP' in front_camera and rear_camera\n",
    "df['front_camera'] = df['front_camera'].str.replace(r'MP', '', regex=True)\n",
    "df['rear_camera'] = df['rear_camera'].str.replace(r'MP', '', regex=True)"
   ]
  },
  {
   "cell_type": "code",
   "execution_count": 13,
   "id": "c67dcf5a-fa84-477b-a411-dda00b2248ed",
   "metadata": {},
   "outputs": [],
   "source": [
    "# clearing out 'RAM'\n",
    "df['ram'] = df['ram'].str.replace(r' GB RAM', '', regex=True)"
   ]
  },
  {
   "cell_type": "code",
   "execution_count": 14,
   "id": "56e9aad0-c78f-4ff3-8b26-354856b7476e",
   "metadata": {},
   "outputs": [],
   "source": [
    "df = df[df['ram'] != '32 MB RAM']"
   ]
  },
  {
   "cell_type": "code",
   "execution_count": 15,
   "id": "6e3d9621-839c-4516-9513-425cde2457c3",
   "metadata": {},
   "outputs": [],
   "source": [
    "# clearing out 'GB' in storage\n",
    "df['storage'] = df['storage'].str.replace(r' GB', '', regex=True)"
   ]
  },
  {
   "cell_type": "code",
   "execution_count": 16,
   "id": "903921cf-e41c-4a67-9cc1-907463f01400",
   "metadata": {},
   "outputs": [],
   "source": [
    "# dropping expandable storage column\n",
    "df.drop('expandable_storage', axis=1, inplace=True)"
   ]
  },
  {
   "cell_type": "code",
   "execution_count": 17,
   "id": "d53c6399-4ba4-4c52-8af9-9409f79d7ce8",
   "metadata": {},
   "outputs": [],
   "source": [
    "df['battery'] = df['battery'].str.replace(r'(\\d+ mAh).*?Battery', r'\\1 Battery', regex=True)"
   ]
  },
  {
   "cell_type": "code",
   "execution_count": 18,
   "id": "0f1d5679-80f5-41df-8dfb-4d91cf218113",
   "metadata": {},
   "outputs": [],
   "source": [
    "# making it a numeric column\n",
    "df['battery'] = df['battery'].str.replace(r' mAh Battery','', regex = True)"
   ]
  },
  {
   "cell_type": "code",
   "execution_count": 19,
   "id": "1307f941-ad00-45f0-a2fd-bccff78c8d81",
   "metadata": {},
   "outputs": [],
   "source": [
    "# making it a numeric column\n",
    "df['rating'] = df['rating'].str.replace(r'[Ratings,]','', regex = True)"
   ]
  },
  {
   "cell_type": "code",
   "execution_count": 20,
   "id": "6f876b42-7f0d-4f98-be3a-6fe83ebe16f5",
   "metadata": {},
   "outputs": [],
   "source": [
    "# making it a numeric column\n",
    "df['review'] = df['review'].str.replace(r'[Reviews,]','', regex = True)"
   ]
  },
  {
   "cell_type": "code",
   "execution_count": 21,
   "id": "aeae8319-82ef-45d0-bb0a-ff0cd7576a03",
   "metadata": {},
   "outputs": [],
   "source": [
    "# # Fill NaN with '0 MP'\n",
    "# df['front_camera'] = df['front_camera'].fillna('0 MP')"
   ]
  },
  {
   "cell_type": "code",
   "execution_count": 22,
   "id": "a5f4e97a-495e-4757-b248-d8d43b7ef012",
   "metadata": {},
   "outputs": [],
   "source": [
    "# filling in the display cells with median values\n",
    "most_frequent = df['display'].mode()[0]\n",
    "df['display'].fillna(most_frequent, inplace=True)"
   ]
  },
  {
   "cell_type": "code",
   "execution_count": 23,
   "id": "40164e56-e84a-4166-88d6-b57d44feb4e8",
   "metadata": {},
   "outputs": [],
   "source": [
    "df['screen_size_cm'] = df['screen_size_cm'].astype(float)"
   ]
  },
  {
   "cell_type": "code",
   "execution_count": 24,
   "id": "4fcdd6a7-7d81-4935-ac2e-43a7d958cae8",
   "metadata": {},
   "outputs": [],
   "source": [
    "# remove whitespaces\n",
    "df = df.replace(r'\\s+', ' ', regex=True)"
   ]
  },
  {
   "cell_type": "code",
   "execution_count": 25,
   "id": "9880e500-ab33-456c-bd6f-764f2001f62c",
   "metadata": {},
   "outputs": [
    {
     "name": "stdout",
     "output_type": "stream",
     "text": [
      "<class 'pandas.core.frame.DataFrame'>\n",
      "Index: 479 entries, 0 to 479\n",
      "Data columns (total 22 columns):\n",
      " #   Column            Non-Null Count  Dtype  \n",
      "---  ------            --------------  -----  \n",
      " 0   title             479 non-null    object \n",
      " 1   price             476 non-null    object \n",
      " 2   original_price    452 non-null    object \n",
      " 3   discount          450 non-null    object \n",
      " 4   star              476 non-null    float64\n",
      " 5   ratings_reviews   476 non-null    object \n",
      " 6   description       479 non-null    object \n",
      " 7   brand             479 non-null    object \n",
      " 8   model             479 non-null    object \n",
      " 9   camera            477 non-null    object \n",
      " 10  screen_size_cm    479 non-null    float64\n",
      " 11  screen_size_inch  479 non-null    float64\n",
      " 12  display           479 non-null    object \n",
      " 13  ram               455 non-null    object \n",
      " 14  storage           476 non-null    object \n",
      " 15  color             473 non-null    object \n",
      " 16  processor         381 non-null    object \n",
      " 17  battery           445 non-null    object \n",
      " 18  rating            476 non-null    object \n",
      " 19  review            476 non-null    object \n",
      " 20  rear_camera       477 non-null    object \n",
      " 21  front_camera      387 non-null    object \n",
      "dtypes: float64(3), object(19)\n",
      "memory usage: 86.1+ KB\n"
     ]
    }
   ],
   "source": [
    "# checking datatypes and nulls\n",
    "df.info()"
   ]
  },
  {
   "cell_type": "code",
   "execution_count": 26,
   "id": "e1d7fcea-7208-40a1-831f-90fff3eb9aa4",
   "metadata": {},
   "outputs": [],
   "source": [
    "# dropping missing data\n",
    "columns = ['price', 'original_price', 'discount', 'star', 'ratings_reviews', 'color', 'camera', 'ram', 'storage', 'processor', 'battery', 'rating', 'review', 'front_camera', 'rear_camera']\n",
    "df = df.dropna(subset=columns)\n",
    "df.reset_index(drop=True, inplace=True)"
   ]
  },
  {
   "cell_type": "code",
   "execution_count": 27,
   "id": "3f03dde4-4efe-49a4-be95-1eff742cb88c",
   "metadata": {},
   "outputs": [
    {
     "data": {
      "text/plain": [
       "(315, 22)"
      ]
     },
     "execution_count": 27,
     "metadata": {},
     "output_type": "execute_result"
    }
   ],
   "source": [
    "df.shape"
   ]
  },
  {
   "cell_type": "code",
   "execution_count": 28,
   "id": "50dc2414-409a-4a60-94ea-73565cfea206",
   "metadata": {
    "scrolled": true
   },
   "outputs": [],
   "source": [
    "# updating price, original_price, discount, rating, review to int\n",
    "columns = ['price','original_price','discount','rating','review','battery','ram','storage','front_camera','rear_camera']\n",
    "\n",
    "for column in columns:\n",
    "    df[column] = df[column].astype(int)"
   ]
  },
  {
   "cell_type": "code",
   "execution_count": 29,
   "id": "04a06b50-f601-4fa0-97fb-6057d9f035c8",
   "metadata": {},
   "outputs": [
    {
     "name": "stdout",
     "output_type": "stream",
     "text": [
      "<class 'pandas.core.frame.DataFrame'>\n",
      "RangeIndex: 315 entries, 0 to 314\n",
      "Data columns (total 22 columns):\n",
      " #   Column            Non-Null Count  Dtype  \n",
      "---  ------            --------------  -----  \n",
      " 0   title             315 non-null    object \n",
      " 1   price             315 non-null    int64  \n",
      " 2   original_price    315 non-null    int64  \n",
      " 3   discount          315 non-null    int64  \n",
      " 4   star              315 non-null    float64\n",
      " 5   ratings_reviews   315 non-null    object \n",
      " 6   description       315 non-null    object \n",
      " 7   brand             315 non-null    object \n",
      " 8   model             315 non-null    object \n",
      " 9   camera            315 non-null    object \n",
      " 10  screen_size_cm    315 non-null    float64\n",
      " 11  screen_size_inch  315 non-null    float64\n",
      " 12  display           315 non-null    object \n",
      " 13  ram               315 non-null    int64  \n",
      " 14  storage           315 non-null    int64  \n",
      " 15  color             315 non-null    object \n",
      " 16  processor         315 non-null    object \n",
      " 17  battery           315 non-null    int64  \n",
      " 18  rating            315 non-null    int64  \n",
      " 19  review            315 non-null    int64  \n",
      " 20  rear_camera       315 non-null    int64  \n",
      " 21  front_camera      315 non-null    int64  \n",
      "dtypes: float64(3), int64(10), object(9)\n",
      "memory usage: 54.3+ KB\n"
     ]
    }
   ],
   "source": [
    "df.info()"
   ]
  },
  {
   "cell_type": "code",
   "execution_count": 30,
   "id": "46b03d7e-a7bf-4829-bd72-8e4eaa0972bc",
   "metadata": {},
   "outputs": [
    {
     "data": {
      "text/plain": [
       "Index(['title', 'price', 'original_price', 'discount', 'star',\n",
       "       'ratings_reviews', 'description', 'brand', 'model', 'camera',\n",
       "       'screen_size_cm', 'screen_size_inch', 'display', 'ram', 'storage',\n",
       "       'color', 'processor', 'battery', 'rating', 'review', 'rear_camera',\n",
       "       'front_camera'],\n",
       "      dtype='object')"
      ]
     },
     "execution_count": 30,
     "metadata": {},
     "output_type": "execute_result"
    }
   ],
   "source": [
    "df.columns"
   ]
  },
  {
   "cell_type": "code",
   "execution_count": 31,
   "id": "25427ac0-9f0d-456f-a970-d9d692af94d1",
   "metadata": {},
   "outputs": [],
   "source": [
    "# renaming column\n",
    "df.to_csv('cleaned_phones_dataset.csv')"
   ]
  }
 ],
 "metadata": {
  "kernelspec": {
   "display_name": "Python 3 (ipykernel)",
   "language": "python",
   "name": "python3"
  },
  "language_info": {
   "codemirror_mode": {
    "name": "ipython",
    "version": 3
   },
   "file_extension": ".py",
   "mimetype": "text/x-python",
   "name": "python",
   "nbconvert_exporter": "python",
   "pygments_lexer": "ipython3",
   "version": "3.12.5"
  }
 },
 "nbformat": 4,
 "nbformat_minor": 5
}
