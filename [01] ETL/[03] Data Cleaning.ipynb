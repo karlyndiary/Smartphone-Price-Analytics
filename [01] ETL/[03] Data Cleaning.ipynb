{
 "cells": [
  {
   "cell_type": "code",
   "execution_count": 1,
   "id": "95af75f0-8bc9-4c22-88bd-e2d0c15e86fa",
   "metadata": {},
   "outputs": [],
   "source": [
    "import pandas as pd\n",
    "import numpy as np\n",
    "import re\n",
    "\n",
    "import warnings\n",
    "warnings.filterwarnings('ignore')"
   ]
  },
  {
   "cell_type": "code",
   "execution_count": 2,
   "id": "a4a42055-83be-4b22-850e-d2b9e02e13bd",
   "metadata": {},
   "outputs": [
    {
     "data": {
      "text/html": [
       "<div>\n",
       "<style scoped>\n",
       "    .dataframe tbody tr th:only-of-type {\n",
       "        vertical-align: middle;\n",
       "    }\n",
       "\n",
       "    .dataframe tbody tr th {\n",
       "        vertical-align: top;\n",
       "    }\n",
       "\n",
       "    .dataframe thead th {\n",
       "        text-align: right;\n",
       "    }\n",
       "</style>\n",
       "<table border=\"1\" class=\"dataframe\">\n",
       "  <thead>\n",
       "    <tr style=\"text-align: right;\">\n",
       "      <th></th>\n",
       "      <th>Unnamed: 0.1</th>\n",
       "      <th>Unnamed: 0</th>\n",
       "      <th>pid</th>\n",
       "      <th>itemId</th>\n",
       "      <th>listingId</th>\n",
       "      <th>brand</th>\n",
       "      <th>title</th>\n",
       "      <th>subTitle</th>\n",
       "      <th>url</th>\n",
       "      <th>badge</th>\n",
       "      <th>...</th>\n",
       "      <th>screen_size_cm</th>\n",
       "      <th>screen_size_inch</th>\n",
       "      <th>display</th>\n",
       "      <th>ram</th>\n",
       "      <th>storage</th>\n",
       "      <th>expandable_storage</th>\n",
       "      <th>color</th>\n",
       "      <th>processor</th>\n",
       "      <th>battery</th>\n",
       "      <th>average_rating</th>\n",
       "    </tr>\n",
       "  </thead>\n",
       "  <tbody>\n",
       "    <tr>\n",
       "      <th>0</th>\n",
       "      <td>0</td>\n",
       "      <td>0</td>\n",
       "      <td>MOBGMFFX5XYE8MZN</td>\n",
       "      <td>ITMC77FF94CDF044</td>\n",
       "      <td>LSTMOBGMFFX5XYE8MZNRGKCA5</td>\n",
       "      <td>SAMSUNG</td>\n",
       "      <td>SAMSUNG Galaxy S23 5G (Cream, 128 GB)</td>\n",
       "      <td>8 GB RAM</td>\n",
       "      <td>https://flipkart.com/samsung-galaxy-s23-5g-cre...</td>\n",
       "      <td>NaN</td>\n",
       "      <td>...</td>\n",
       "      <td>15.49</td>\n",
       "      <td>6.10</td>\n",
       "      <td>Full HD+</td>\n",
       "      <td>8 GB RAM</td>\n",
       "      <td>128 GB</td>\n",
       "      <td>NaN</td>\n",
       "      <td>Cream</td>\n",
       "      <td>', 'Qualcomm Snapdragon 8 Gen 2 Processor</td>\n",
       "      <td>3900 mAh Lithium Ion Battery</td>\n",
       "      <td>4.5</td>\n",
       "    </tr>\n",
       "    <tr>\n",
       "      <th>1</th>\n",
       "      <td>1</td>\n",
       "      <td>1</td>\n",
       "      <td>MOBHY9PQMNCMDVCD</td>\n",
       "      <td>ITM1C4B849213A0E</td>\n",
       "      <td>LSTMOBHY9PQMNCMDVCDI6UUHQ</td>\n",
       "      <td>MOTOROLA</td>\n",
       "      <td>Motorola G85 5G (Olive Green, 128 GB)</td>\n",
       "      <td>8 GB RAM</td>\n",
       "      <td>https://flipkart.com/motorola-g85-5g-olive-gre...</td>\n",
       "      <td>NaN</td>\n",
       "      <td>...</td>\n",
       "      <td>16.94</td>\n",
       "      <td>6.67</td>\n",
       "      <td>Full HD+</td>\n",
       "      <td>8 GB RAM</td>\n",
       "      <td>128 GB</td>\n",
       "      <td>NaN</td>\n",
       "      <td>Olive Green</td>\n",
       "      <td>', '6s Gen 3 Processor</td>\n",
       "      <td>5000 mAh Battery</td>\n",
       "      <td>4.4</td>\n",
       "    </tr>\n",
       "  </tbody>\n",
       "</table>\n",
       "<p>2 rows × 29 columns</p>\n",
       "</div>"
      ],
      "text/plain": [
       "   Unnamed: 0.1  Unnamed: 0               pid            itemId  \\\n",
       "0             0           0  MOBGMFFX5XYE8MZN  ITMC77FF94CDF044   \n",
       "1             1           1  MOBHY9PQMNCMDVCD  ITM1C4B849213A0E   \n",
       "\n",
       "                   listingId     brand                                  title  \\\n",
       "0  LSTMOBGMFFX5XYE8MZNRGKCA5   SAMSUNG  SAMSUNG Galaxy S23 5G (Cream, 128 GB)   \n",
       "1  LSTMOBHY9PQMNCMDVCDI6UUHQ  MOTOROLA  Motorola G85 5G (Olive Green, 128 GB)   \n",
       "\n",
       "   subTitle                                                url badge  ...  \\\n",
       "0  8 GB RAM  https://flipkart.com/samsung-galaxy-s23-5g-cre...   NaN  ...   \n",
       "1  8 GB RAM  https://flipkart.com/motorola-g85-5g-olive-gre...   NaN  ...   \n",
       "\n",
       "  screen_size_cm screen_size_inch   display       ram  storage  \\\n",
       "0          15.49             6.10  Full HD+  8 GB RAM   128 GB   \n",
       "1          16.94             6.67  Full HD+  8 GB RAM   128 GB   \n",
       "\n",
       "  expandable_storage        color                                  processor  \\\n",
       "0                NaN        Cream  ', 'Qualcomm Snapdragon 8 Gen 2 Processor   \n",
       "1                NaN  Olive Green                     ', '6s Gen 3 Processor   \n",
       "\n",
       "                        battery  average_rating  \n",
       "0  3900 mAh Lithium Ion Battery             4.5  \n",
       "1              5000 mAh Battery             4.4  \n",
       "\n",
       "[2 rows x 29 columns]"
      ]
     },
     "execution_count": 2,
     "metadata": {},
     "output_type": "execute_result"
    }
   ],
   "source": [
    "df = pd.read_csv(r'C:\\Users\\Karen Fernandes\\anaconda3\\Files\\Projects\\Flipkart API\\data_extraction_phone_dataset.csv')\n",
    "df.head(2)"
   ]
  },
  {
   "cell_type": "code",
   "execution_count": 3,
   "id": "84b8cd34-00c1-4dd8-b135-6cb250398b71",
   "metadata": {},
   "outputs": [
    {
     "data": {
      "text/plain": [
       "Index(['Unnamed: 0.1', 'Unnamed: 0', 'pid', 'itemId', 'listingId', 'brand',\n",
       "       'title', 'subTitle', 'url', 'badge', 'stock', 'highlights',\n",
       "       'isSponsored', 'mrp', 'price', 'rating', 'images', 'model', 'camera',\n",
       "       'screen_size_cm', 'screen_size_inch', 'display', 'ram', 'storage',\n",
       "       'expandable_storage', 'color', 'processor', 'battery',\n",
       "       'average_rating'],\n",
       "      dtype='object')"
      ]
     },
     "execution_count": 3,
     "metadata": {},
     "output_type": "execute_result"
    }
   ],
   "source": [
    "df.columns"
   ]
  },
  {
   "cell_type": "code",
   "execution_count": 4,
   "id": "dac023c2-9c51-414d-a7dc-d4f4fddd292d",
   "metadata": {},
   "outputs": [],
   "source": [
    "# drop Unnamed: 0 column\n",
    "df.drop(columns=['Unnamed: 0.1', 'Unnamed: 0'], inplace=True)"
   ]
  },
  {
   "cell_type": "code",
   "execution_count": 5,
   "id": "cc8ec659-5adf-4cc6-8da0-4823e31e9f3f",
   "metadata": {},
   "outputs": [],
   "source": [
    "df1 = df[['pid','brand', 'title', 'subTitle', 'stock', 'highlights',\n",
    "       'mrp', 'price', 'rating', 'images', 'model', 'camera',\n",
    "       'screen_size_cm', 'screen_size_inch', 'display', 'ram', 'storage',\n",
    "       'color', 'processor', 'battery', 'average_rating']]"
   ]
  },
  {
   "cell_type": "code",
   "execution_count": 6,
   "id": "d307eefe-8e80-4f4b-be0f-afefca408c3e",
   "metadata": {},
   "outputs": [],
   "source": [
    "# convert the title names to proper case\n",
    "df1['title'] = df1['title'].str.title()"
   ]
  },
  {
   "cell_type": "code",
   "execution_count": 7,
   "id": "b287c634-06bc-4ddd-9acd-1e5b4ac4302d",
   "metadata": {},
   "outputs": [],
   "source": [
    "# convert the brand names to proper case\n",
    "df1['brand'] = df1['brand'].str.title()"
   ]
  },
  {
   "cell_type": "code",
   "execution_count": 8,
   "id": "6ccb43bc-9e54-4f62-a15b-5761bf92b576",
   "metadata": {},
   "outputs": [],
   "source": [
    "# convert the model names to proper case\n",
    "df1['model'] = df1['model'].str.title()"
   ]
  },
  {
   "cell_type": "code",
   "execution_count": 9,
   "id": "7706b25d-4cfe-44ea-8d34-2b80e190592f",
   "metadata": {},
   "outputs": [],
   "source": [
    "# extract rear camera\n",
    "df1['rear_camera'] = df1['camera'].str.extract(r'(\\d+MP) Rear Camera')\n",
    "df1['rear_camera'] = df1['rear_camera'].fillna(df1['camera'].str.extract(r'(\\d+MP)').iloc[:, 0])"
   ]
  },
  {
   "cell_type": "code",
   "execution_count": 10,
   "id": "54bb981d-3294-4dd7-b8a4-05f3a6c5a7ac",
   "metadata": {},
   "outputs": [],
   "source": [
    "# extract front camera\n",
    "df1['front_camera'] = df1['camera'].str.extract(r'(\\d+MP) Front Camera')\n",
    "df1['front_camera'] = df1['front_camera'].fillna(df1['camera'].str.extract(r'\\+ (\\d+MP)').iloc[:, 0])"
   ]
  },
  {
   "cell_type": "code",
   "execution_count": 11,
   "id": "32f30374-7a22-4137-9504-147000d15ff6",
   "metadata": {},
   "outputs": [],
   "source": [
    "# clearing out 'MP' in front_camera and rear_camera\n",
    "df1['front_camera'] = df1['front_camera'].str.replace(r'MP', '', regex=True)\n",
    "df1['rear_camera'] = df1['rear_camera'].str.replace(r'MP', '', regex=True)"
   ]
  },
  {
   "cell_type": "code",
   "execution_count": 12,
   "id": "19796ea3-f919-418a-98e7-08859bd814bd",
   "metadata": {},
   "outputs": [],
   "source": [
    "df1['processor'] = df1['processor'].str.replace(\"', '\", \"\")"
   ]
  },
  {
   "cell_type": "code",
   "execution_count": 13,
   "id": "807bd4cc-6545-4660-b8c0-1ea8dcdc1e7f",
   "metadata": {},
   "outputs": [],
   "source": [
    "# clearing out 'RAM'\n",
    "df1['ram'] = df1['ram'].str.replace(r' GB RAM', '', regex=True)"
   ]
  },
  {
   "cell_type": "code",
   "execution_count": 14,
   "id": "3857cb9a-da6e-44b8-b5e4-9df0a2a4dfc2",
   "metadata": {},
   "outputs": [],
   "source": [
    "df1 = df1[~df1['ram'].str.contains('MB RAM', na=False)]"
   ]
  },
  {
   "cell_type": "code",
   "execution_count": 15,
   "id": "aaf03edc-4041-45c1-af8d-db91ac0f0d5b",
   "metadata": {},
   "outputs": [],
   "source": [
    "# clearing out 'GB' in storage\n",
    "df1['storage'] = df1['storage'].str.replace(r' GB', '', regex=True)"
   ]
  },
  {
   "cell_type": "code",
   "execution_count": 16,
   "id": "11bd3564-bedf-430e-994d-3a05d244abbf",
   "metadata": {},
   "outputs": [],
   "source": [
    "# Regex pattern to match RAM specifications\n",
    "ram_pattern = r'\\b\\d+\\s*(GB|MB)\\s*RAM\\b'\n",
    "\n",
    "# Replace RAM specifications with an empty string and strip any leading/trailing whitespace\n",
    "df1['subTitle'] = df1['subTitle'].str.replace(ram_pattern, '', regex=True).str.strip()\n",
    "\n",
    "# Transfer values from 'subTitle' to 'color' where 'color' is NaN\n",
    "df1['color'] = df1['color'].fillna(df1['subTitle'])\n",
    "\n",
    "# convert the brand names to proper case\n",
    "df1['color'] = df1['color'].str.title()"
   ]
  },
  {
   "cell_type": "code",
   "execution_count": 17,
   "id": "99ba6662-9e9d-47de-a7a9-ace783c34962",
   "metadata": {},
   "outputs": [],
   "source": [
    "# This regex assumes the color name is the last part after a closing parenthesis or comma\n",
    "df1['color'] = df1['color'].str.extract(r'\\b(\\w+(?: \\w+)*?)\\s*$')\n",
    "\n",
    "# Handle cases where the color might be not properly extracted\n",
    "df1['color'] = df1['color'].fillna(df1['color'].str.strip())"
   ]
  },
  {
   "cell_type": "code",
   "execution_count": 18,
   "id": "f793faa2-4159-495d-8d85-7ced858e0a3a",
   "metadata": {},
   "outputs": [],
   "source": [
    "# drop subTitle column\n",
    "df1.drop(columns=['subTitle'], inplace=True)"
   ]
  },
  {
   "cell_type": "code",
   "execution_count": 19,
   "id": "d7d8cc7c-559e-44de-a81b-59aecaa88d93",
   "metadata": {},
   "outputs": [],
   "source": [
    "df2 = df1.dropna(subset=['mrp', 'price', 'screen_size_cm', 'screen_size_inch', 'color'])"
   ]
  },
  {
   "cell_type": "code",
   "execution_count": 20,
   "id": "85ba10db-80b4-4806-ac82-1351eda61670",
   "metadata": {},
   "outputs": [],
   "source": [
    "# Define a function to update processor information\n",
    "def extract_processor(model):\n",
    "    if pd.isna(model):\n",
    "        return None\n",
    "    if re.search('SAMSUNG Galaxy M14 4G', model, re.IGNORECASE): \n",
    "        return 'Snapdragon 680 Processor'\n",
    "    elif re.search('SAMSUNG Galaxy M34 5G', model, re.IGNORECASE): \n",
    "        return 'Exynos 1280 Processor'\n",
    "    elif re.search('SAMSUNG Galaxy M35 5G', model, re.IGNORECASE): \n",
    "        return 'Exynos Processor'\n",
    "    elif re.search('SAMSUNG Galaxy M14 5G', model, re.IGNORECASE): \n",
    "        return 'Exynos Processor'\n",
    "    elif re.search('Samsung Galaxy M13 5G', model, re.IGNORECASE): \n",
    "        return 'Mediatek Processor'\n",
    "    elif re.search('OnePlus Nord CE 3 Lite 5G', model, re.IGNORECASE): \n",
    "        return 'Qualcomm Snapdragon 695 Processor'\n",
    "    elif re.search('Realme Narzo N63 4G', model, re.IGNORECASE): \n",
    "        return 'Mediatek Processor'\n",
    "    elif re.search('Realme Narzo N63', model, re.IGNORECASE): \n",
    "        return 'Unisoc Processor'\n",
    "    elif re.search('Redmi 13C 5G', model, re.IGNORECASE): \n",
    "        return 'Mediatek Processor'\n",
    "    else:\n",
    "        return None\n",
    "\n",
    "# Apply the function to update the 'processor' column\n",
    "df2['processor'] = df2.apply(lambda row: extract_processor(row['model']) if pd.isna(row['processor']) else row['processor'], axis=1)"
   ]
  },
  {
   "cell_type": "code",
   "execution_count": 21,
   "id": "b1bf8847-3cd6-4a20-9750-424e43baf50a",
   "metadata": {},
   "outputs": [],
   "source": [
    "# no brand of NA Processor available\n",
    "df2['processor'] = df2['processor'].str.replace(r'NA Processor','', regex = True)"
   ]
  },
  {
   "cell_type": "code",
   "execution_count": 22,
   "id": "19f8ff1f-f615-4450-995b-e0a9bbee08be",
   "metadata": {},
   "outputs": [],
   "source": [
    "# Define a function to update battery information\n",
    "def extract_battery(model):\n",
    "    if pd.isna(model):\n",
    "        return None\n",
    "    if re.search('Apple IPhone 15 Plus', model, re.IGNORECASE):  \n",
    "        return '4383 mAh Battery'\n",
    "    elif re.search('Apple IPhone 15', model, re.IGNORECASE): \n",
    "        return '3349 mAh Battery'\n",
    "    elif re.search('Apple IPhone 13', model, re.IGNORECASE): \n",
    "        return '3240 mAh Battery'\n",
    "    elif re.search('Apple IPhone 11', model, re.IGNORECASE): \n",
    "        return '3110 mAh Battery'\n",
    "    elif re.search('Apple IPhone 12', model, re.IGNORECASE): \n",
    "        return '3100 mAh Battery'\n",
    "    elif re.search('Apple IPhone 14', model, re.IGNORECASE): \n",
    "        return '3279 mAh Battery'\n",
    "    elif re.search('Apple IPhone 14 Plus', model, re.IGNORECASE): \n",
    "        return '4500 mAh Battery'\n",
    "    elif re.search('Samsung Galaxy S21 FE 5G', model, re.IGNORECASE): \n",
    "        return '3279 mAh Battery'\n",
    "    elif re.search('Motorola G32', model, re.IGNORECASE): \n",
    "        return '5000 mAh Battery'\n",
    "    elif re.search('SAMSUNG Galaxy Z Flip3 5G', model, re.IGNORECASE): \n",
    "        return '3300 mAh Battery'\n",
    "    else:\n",
    "        return '5000 mAh Battery'\n",
    "\n",
    "# Apply the function to update the 'battery' column\n",
    "df2['battery'] = df2.apply(lambda row: extract_battery(row['model']) if pd.isna(row['battery']) else row['battery'], axis=1)"
   ]
  },
  {
   "cell_type": "code",
   "execution_count": 23,
   "id": "0e9787f2-616f-4503-bcab-bd1ee6097d08",
   "metadata": {
    "scrolled": true
   },
   "outputs": [],
   "source": [
    "# Extract the numeric part\n",
    "df2['battery'] = df2['battery'].str.extract('(\\d+)').astype(int)"
   ]
  },
  {
   "cell_type": "code",
   "execution_count": 24,
   "id": "5fd72e7d-fd3e-4f76-a05a-c85f23a93ed0",
   "metadata": {},
   "outputs": [],
   "source": [
    "# drop camera, screen_size_cm\n",
    "df2.drop(columns=['camera', 'screen_size_cm'], inplace=True)"
   ]
  },
  {
   "cell_type": "code",
   "execution_count": 25,
   "id": "22c05a2c-7417-4965-b4f1-f32dcd99ec63",
   "metadata": {},
   "outputs": [],
   "source": [
    "df2 = df2.dropna()"
   ]
  },
  {
   "cell_type": "code",
   "execution_count": 26,
   "id": "5a891336-5560-4cba-b55f-eccf44539e87",
   "metadata": {},
   "outputs": [
    {
     "name": "stdout",
     "output_type": "stream",
     "text": [
      "null counts: pid                 0\n",
      "brand               0\n",
      "title               0\n",
      "stock               0\n",
      "highlights          0\n",
      "mrp                 0\n",
      "price               0\n",
      "rating              0\n",
      "images              0\n",
      "model               0\n",
      "screen_size_inch    0\n",
      "display             0\n",
      "ram                 0\n",
      "storage             0\n",
      "color               0\n",
      "processor           0\n",
      "battery             0\n",
      "average_rating      0\n",
      "rear_camera         0\n",
      "front_camera        0\n",
      "dtype: int64\n",
      "total: 0\n"
     ]
    }
   ],
   "source": [
    "# Count NaN values\n",
    "null_counts = df2.isnull().sum()\n",
    "total = null_counts.sum()\n",
    "\n",
    "print(f'null counts: {null_counts}')\n",
    "print(f'total: {total}')"
   ]
  },
  {
   "cell_type": "code",
   "execution_count": 27,
   "id": "02a47032-b371-4f51-b702-4ac0787574b7",
   "metadata": {},
   "outputs": [
    {
     "data": {
      "text/html": [
       "<div>\n",
       "<style scoped>\n",
       "    .dataframe tbody tr th:only-of-type {\n",
       "        vertical-align: middle;\n",
       "    }\n",
       "\n",
       "    .dataframe tbody tr th {\n",
       "        vertical-align: top;\n",
       "    }\n",
       "\n",
       "    .dataframe thead th {\n",
       "        text-align: right;\n",
       "    }\n",
       "</style>\n",
       "<table border=\"1\" class=\"dataframe\">\n",
       "  <thead>\n",
       "    <tr style=\"text-align: right;\">\n",
       "      <th></th>\n",
       "      <th>pid</th>\n",
       "      <th>brand</th>\n",
       "      <th>title</th>\n",
       "      <th>stock</th>\n",
       "      <th>highlights</th>\n",
       "      <th>mrp</th>\n",
       "      <th>price</th>\n",
       "      <th>rating</th>\n",
       "      <th>images</th>\n",
       "      <th>model</th>\n",
       "      <th>screen_size_inch</th>\n",
       "      <th>display</th>\n",
       "      <th>ram</th>\n",
       "      <th>storage</th>\n",
       "      <th>color</th>\n",
       "      <th>processor</th>\n",
       "      <th>battery</th>\n",
       "      <th>average_rating</th>\n",
       "      <th>rear_camera</th>\n",
       "      <th>front_camera</th>\n",
       "    </tr>\n",
       "  </thead>\n",
       "  <tbody>\n",
       "    <tr>\n",
       "      <th>0</th>\n",
       "      <td>MOBGMFFX5XYE8MZN</td>\n",
       "      <td>Samsung</td>\n",
       "      <td>Samsung Galaxy S23 5G (Cream, 128 Gb)</td>\n",
       "      <td>IN_STOCK</td>\n",
       "      <td>['8 GB RAM | 128 GB ROM', '15.49 cm (6.1 inch)...</td>\n",
       "      <td>89999.0</td>\n",
       "      <td>49999.0</td>\n",
       "      <td>{'average': 4.5, 'count': 13712, 'reviewCount'...</td>\n",
       "      <td>['https://rukminim2.flixcart.com/image/1160/11...</td>\n",
       "      <td>Samsung Galaxy S23 5G</td>\n",
       "      <td>6.10</td>\n",
       "      <td>Full HD+</td>\n",
       "      <td>8</td>\n",
       "      <td>128</td>\n",
       "      <td>Cream</td>\n",
       "      <td>Qualcomm Snapdragon 8 Gen 2 Processor</td>\n",
       "      <td>3900</td>\n",
       "      <td>4.5</td>\n",
       "      <td>50</td>\n",
       "      <td>12</td>\n",
       "    </tr>\n",
       "    <tr>\n",
       "      <th>1</th>\n",
       "      <td>MOBHY9PQMNCMDVCD</td>\n",
       "      <td>Motorola</td>\n",
       "      <td>Motorola G85 5G (Olive Green, 128 Gb)</td>\n",
       "      <td>IN_STOCK</td>\n",
       "      <td>['8 GB RAM | 128 GB ROM', '16.94 cm (6.67 inch...</td>\n",
       "      <td>20999.0</td>\n",
       "      <td>17999.0</td>\n",
       "      <td>{'average': 4.4, 'count': 19290, 'reviewCount'...</td>\n",
       "      <td>['https://rukminim2.flixcart.com/image/1160/11...</td>\n",
       "      <td>Motorola G85 5G</td>\n",
       "      <td>6.67</td>\n",
       "      <td>Full HD+</td>\n",
       "      <td>8</td>\n",
       "      <td>128</td>\n",
       "      <td>Olive Green</td>\n",
       "      <td>6s Gen 3 Processor</td>\n",
       "      <td>5000</td>\n",
       "      <td>4.4</td>\n",
       "      <td>50</td>\n",
       "      <td>32</td>\n",
       "    </tr>\n",
       "    <tr>\n",
       "      <th>5</th>\n",
       "      <td>MOBGY2JUGGJZJQNK</td>\n",
       "      <td>Motorola</td>\n",
       "      <td>Motorola G64 5G (Ice Lilac, 256 Gb)</td>\n",
       "      <td>IN_STOCK</td>\n",
       "      <td>['12 GB RAM | 256 GB ROM | Expandable Upto 1 T...</td>\n",
       "      <td>19999.0</td>\n",
       "      <td>16999.0</td>\n",
       "      <td>{'average': 4.2, 'count': 16352, 'reviewCount'...</td>\n",
       "      <td>['https://rukminim2.flixcart.com/image/1160/11...</td>\n",
       "      <td>Motorola G64 5G</td>\n",
       "      <td>6.50</td>\n",
       "      <td>Full HD+</td>\n",
       "      <td>12</td>\n",
       "      <td>256</td>\n",
       "      <td>Ice Lilac</td>\n",
       "      <td>Dimensity 7025 Processor</td>\n",
       "      <td>6000</td>\n",
       "      <td>4.2</td>\n",
       "      <td>50</td>\n",
       "      <td>16</td>\n",
       "    </tr>\n",
       "    <tr>\n",
       "      <th>6</th>\n",
       "      <td>MOBGY2JUPSSWCZEJ</td>\n",
       "      <td>Motorola</td>\n",
       "      <td>Motorola G64 5G (Mint Green, 256 Gb)</td>\n",
       "      <td>IN_STOCK</td>\n",
       "      <td>['12 GB RAM | 256 GB ROM | Expandable Upto 1 T...</td>\n",
       "      <td>19999.0</td>\n",
       "      <td>16999.0</td>\n",
       "      <td>{'average': 4.2, 'count': 16352, 'reviewCount'...</td>\n",
       "      <td>['https://rukminim2.flixcart.com/image/1160/11...</td>\n",
       "      <td>Motorola G64 5G</td>\n",
       "      <td>6.50</td>\n",
       "      <td>Full HD+</td>\n",
       "      <td>12</td>\n",
       "      <td>256</td>\n",
       "      <td>Mint Green</td>\n",
       "      <td>Dimensity 7025 Processor</td>\n",
       "      <td>6000</td>\n",
       "      <td>4.2</td>\n",
       "      <td>50</td>\n",
       "      <td>16</td>\n",
       "    </tr>\n",
       "    <tr>\n",
       "      <th>7</th>\n",
       "      <td>MOBHY9PQZACQBKGG</td>\n",
       "      <td>Motorola</td>\n",
       "      <td>Motorola G04S (Sea Green, 64 Gb)</td>\n",
       "      <td>IN_STOCK</td>\n",
       "      <td>['4 GB RAM | 64 GB ROM | Expandable Upto 1 TB'...</td>\n",
       "      <td>9999.0</td>\n",
       "      <td>6999.0</td>\n",
       "      <td>{'average': 4.2, 'count': 13447, 'reviewCount'...</td>\n",
       "      <td>['https://rukminim2.flixcart.com/image/1160/11...</td>\n",
       "      <td>Motorola G04S</td>\n",
       "      <td>6.60</td>\n",
       "      <td>HD+</td>\n",
       "      <td>4</td>\n",
       "      <td>64</td>\n",
       "      <td>Sea Green</td>\n",
       "      <td>T606 Processor</td>\n",
       "      <td>5000</td>\n",
       "      <td>4.2</td>\n",
       "      <td>50</td>\n",
       "      <td>5</td>\n",
       "    </tr>\n",
       "  </tbody>\n",
       "</table>\n",
       "</div>"
      ],
      "text/plain": [
       "                pid     brand                                  title  \\\n",
       "0  MOBGMFFX5XYE8MZN   Samsung  Samsung Galaxy S23 5G (Cream, 128 Gb)   \n",
       "1  MOBHY9PQMNCMDVCD  Motorola  Motorola G85 5G (Olive Green, 128 Gb)   \n",
       "5  MOBGY2JUGGJZJQNK  Motorola    Motorola G64 5G (Ice Lilac, 256 Gb)   \n",
       "6  MOBGY2JUPSSWCZEJ  Motorola   Motorola G64 5G (Mint Green, 256 Gb)   \n",
       "7  MOBHY9PQZACQBKGG  Motorola       Motorola G04S (Sea Green, 64 Gb)   \n",
       "\n",
       "      stock                                         highlights      mrp  \\\n",
       "0  IN_STOCK  ['8 GB RAM | 128 GB ROM', '15.49 cm (6.1 inch)...  89999.0   \n",
       "1  IN_STOCK  ['8 GB RAM | 128 GB ROM', '16.94 cm (6.67 inch...  20999.0   \n",
       "5  IN_STOCK  ['12 GB RAM | 256 GB ROM | Expandable Upto 1 T...  19999.0   \n",
       "6  IN_STOCK  ['12 GB RAM | 256 GB ROM | Expandable Upto 1 T...  19999.0   \n",
       "7  IN_STOCK  ['4 GB RAM | 64 GB ROM | Expandable Upto 1 TB'...   9999.0   \n",
       "\n",
       "     price                                             rating  \\\n",
       "0  49999.0  {'average': 4.5, 'count': 13712, 'reviewCount'...   \n",
       "1  17999.0  {'average': 4.4, 'count': 19290, 'reviewCount'...   \n",
       "5  16999.0  {'average': 4.2, 'count': 16352, 'reviewCount'...   \n",
       "6  16999.0  {'average': 4.2, 'count': 16352, 'reviewCount'...   \n",
       "7   6999.0  {'average': 4.2, 'count': 13447, 'reviewCount'...   \n",
       "\n",
       "                                              images                   model  \\\n",
       "0  ['https://rukminim2.flixcart.com/image/1160/11...  Samsung Galaxy S23 5G    \n",
       "1  ['https://rukminim2.flixcart.com/image/1160/11...        Motorola G85 5G    \n",
       "5  ['https://rukminim2.flixcart.com/image/1160/11...        Motorola G64 5G    \n",
       "6  ['https://rukminim2.flixcart.com/image/1160/11...        Motorola G64 5G    \n",
       "7  ['https://rukminim2.flixcart.com/image/1160/11...          Motorola G04S    \n",
       "\n",
       "   screen_size_inch   display ram storage        color  \\\n",
       "0              6.10  Full HD+   8     128        Cream   \n",
       "1              6.67  Full HD+   8     128  Olive Green   \n",
       "5              6.50  Full HD+  12     256    Ice Lilac   \n",
       "6              6.50  Full HD+  12     256   Mint Green   \n",
       "7              6.60       HD+   4      64    Sea Green   \n",
       "\n",
       "                               processor  battery  average_rating rear_camera  \\\n",
       "0  Qualcomm Snapdragon 8 Gen 2 Processor     3900             4.5          50   \n",
       "1                     6s Gen 3 Processor     5000             4.4          50   \n",
       "5               Dimensity 7025 Processor     6000             4.2          50   \n",
       "6               Dimensity 7025 Processor     6000             4.2          50   \n",
       "7                         T606 Processor     5000             4.2          50   \n",
       "\n",
       "  front_camera  \n",
       "0           12  \n",
       "1           32  \n",
       "5           16  \n",
       "6           16  \n",
       "7            5  "
      ]
     },
     "execution_count": 27,
     "metadata": {},
     "output_type": "execute_result"
    }
   ],
   "source": [
    "df2.head()"
   ]
  },
  {
   "cell_type": "code",
   "execution_count": 28,
   "id": "f7079e6a-1c6c-4269-ad97-8ffe2e4c21f9",
   "metadata": {},
   "outputs": [
    {
     "data": {
      "text/plain": [
       "(525, 20)"
      ]
     },
     "execution_count": 28,
     "metadata": {},
     "output_type": "execute_result"
    }
   ],
   "source": [
    "df2.shape"
   ]
  },
  {
   "cell_type": "code",
   "execution_count": 29,
   "id": "f58cadeb-8c1e-49f7-9316-f14e75667138",
   "metadata": {},
   "outputs": [],
   "source": [
    "# renaming column\n",
    "df2.to_csv('cleaned_phones_dataset.csv')"
   ]
  }
 ],
 "metadata": {
  "kernelspec": {
   "display_name": "Python 3 (ipykernel)",
   "language": "python",
   "name": "python3"
  },
  "language_info": {
   "codemirror_mode": {
    "name": "ipython",
    "version": 3
   },
   "file_extension": ".py",
   "mimetype": "text/x-python",
   "name": "python",
   "nbconvert_exporter": "python",
   "pygments_lexer": "ipython3",
   "version": "3.12.5"
  }
 },
 "nbformat": 4,
 "nbformat_minor": 5
}
