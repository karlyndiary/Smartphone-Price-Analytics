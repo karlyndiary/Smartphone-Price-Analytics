{
 "cells": [
  {
   "cell_type": "code",
   "execution_count": 1,
   "id": "173ba519-e0b8-4f77-a9d1-a639b5331db5",
   "metadata": {},
   "outputs": [],
   "source": [
    "import pandas as pd\n",
    "import numpy as np\n",
    "import re"
   ]
  },
  {
   "cell_type": "code",
   "execution_count": 2,
   "id": "59547632-f02c-43c9-b6ab-42110a300e6b",
   "metadata": {},
   "outputs": [
    {
     "data": {
      "text/html": [
       "<div>\n",
       "<style scoped>\n",
       "    .dataframe tbody tr th:only-of-type {\n",
       "        vertical-align: middle;\n",
       "    }\n",
       "\n",
       "    .dataframe tbody tr th {\n",
       "        vertical-align: top;\n",
       "    }\n",
       "\n",
       "    .dataframe thead th {\n",
       "        text-align: right;\n",
       "    }\n",
       "</style>\n",
       "<table border=\"1\" class=\"dataframe\">\n",
       "  <thead>\n",
       "    <tr style=\"text-align: right;\">\n",
       "      <th></th>\n",
       "      <th>Unnamed: 0</th>\n",
       "      <th>title</th>\n",
       "      <th>price</th>\n",
       "      <th>original_price</th>\n",
       "      <th>discount</th>\n",
       "      <th>star</th>\n",
       "      <th>review</th>\n",
       "      <th>description</th>\n",
       "    </tr>\n",
       "  </thead>\n",
       "  <tbody>\n",
       "    <tr>\n",
       "      <th>0</th>\n",
       "      <td>0</td>\n",
       "      <td>Apple iPhone 15 (Black, 128 GB)</td>\n",
       "      <td>₹64,999</td>\n",
       "      <td>₹79,600</td>\n",
       "      <td>18% off</td>\n",
       "      <td>4.6</td>\n",
       "      <td>47,150 Ratings &amp; 2,494 Reviews</td>\n",
       "      <td>128 GB ROM15.49 cm (6.1 inch) Super Retina XDR...</td>\n",
       "    </tr>\n",
       "    <tr>\n",
       "      <th>1</th>\n",
       "      <td>1</td>\n",
       "      <td>MOTOROLA Edge 50 (Koala Grey, 256 GB)</td>\n",
       "      <td>₹27,999</td>\n",
       "      <td>₹32,999</td>\n",
       "      <td>15% off</td>\n",
       "      <td>4.3</td>\n",
       "      <td>1,465 Ratings &amp; 101 Reviews</td>\n",
       "      <td>8 GB RAM | 256 GB ROM16.94 cm (6.67 inch) Disp...</td>\n",
       "    </tr>\n",
       "  </tbody>\n",
       "</table>\n",
       "</div>"
      ],
      "text/plain": [
       "   Unnamed: 0                                  title    price original_price  \\\n",
       "0           0        Apple iPhone 15 (Black, 128 GB)  ₹64,999        ₹79,600   \n",
       "1           1  MOTOROLA Edge 50 (Koala Grey, 256 GB)  ₹27,999        ₹32,999   \n",
       "\n",
       "  discount  star                          review  \\\n",
       "0  18% off   4.6  47,150 Ratings & 2,494 Reviews   \n",
       "1  15% off   4.3     1,465 Ratings & 101 Reviews   \n",
       "\n",
       "                                         description  \n",
       "0  128 GB ROM15.49 cm (6.1 inch) Super Retina XDR...  \n",
       "1  8 GB RAM | 256 GB ROM16.94 cm (6.67 inch) Disp...  "
      ]
     },
     "execution_count": 2,
     "metadata": {},
     "output_type": "execute_result"
    }
   ],
   "source": [
    "df = pd.read_csv(r'C:\\Users\\Karen Fernandes\\anaconda3\\Files\\Projects\\Web Scraping\\phones.csv')\n",
    "df.head(2)"
   ]
  },
  {
   "cell_type": "code",
   "execution_count": 3,
   "id": "0feac0be-1b02-4a8c-8cd3-88450df41ae0",
   "metadata": {},
   "outputs": [
    {
     "data": {
      "text/plain": [
       "(480, 8)"
      ]
     },
     "execution_count": 3,
     "metadata": {},
     "output_type": "execute_result"
    }
   ],
   "source": [
    "df.shape"
   ]
  },
  {
   "cell_type": "code",
   "execution_count": 4,
   "id": "5da2156a-8623-47ad-ae1f-e97489c89103",
   "metadata": {},
   "outputs": [],
   "source": [
    "# renaming column\n",
    "df.rename(columns = {'review': 'ratings_reviews'}, inplace = True)"
   ]
  },
  {
   "cell_type": "code",
   "execution_count": 5,
   "id": "dc735d18-90ef-44ac-a99f-6cdfbd11a298",
   "metadata": {},
   "outputs": [],
   "source": [
    "# creating a new brand column from title column\n",
    "df['brand'] = df['title'].str.split().str[0]"
   ]
  },
  {
   "cell_type": "code",
   "execution_count": 6,
   "id": "a310833e-dc6b-4bc2-97ee-d0b494e45b7b",
   "metadata": {},
   "outputs": [],
   "source": [
    "# creating a new model name column from title column\n",
    "df['model'] = df['title'].str.extract(r'(^[^\\(]*)')"
   ]
  },
  {
   "cell_type": "code",
   "execution_count": 7,
   "id": "89f06fdc-3a60-4efd-a626-be8e21dce674",
   "metadata": {},
   "outputs": [],
   "source": [
    "def extract_camera(description):\n",
    "    # Define regex patterns\n",
    "    patterns = {\n",
    "        'pattern1': r'(\\d+MP(?: \\([\\w\\s]+\\))?(?: \\+ [\\w\\s]+)* \\| \\d+MP Front Camera)',  # General MP info with Front Camera\n",
    "        'pattern2': r'(\\d+MP(?: \\([\\w\\s]+\\))?(?: \\+ [\\w\\s]+)* (?:Rear Camera) \\| \\d+MP Front Camera)',  # Rear Camera with Front Camera\n",
    "        'pattern3': r'(\\d+MP(?: \\([\\w\\s]+\\))?(?: \\+ \\d+MP)+ \\| \\d+MP Front Camera)',  # Multiple MP values\n",
    "        'pattern4': r'(\\d+MP(?: \\([\\w\\s]+\\))?(?: \\+ [\\w\\s]+)+ \\| \\d+MP Front Camera)',  # With terms like \"AI Lens\"\n",
    "        'pattern5': r'(\\d+MP(?: \\([\\w\\s]+\\))?(?: \\+ \\d+MP)* \\| \\d+MP Front Camera)',  # Includes zero MP values\n",
    "        'pattern6': r'(\\d+\\s*MP\\s*Rear\\s*Camera)',  # Simple Rear Camera format\n",
    "        'pattern7': r'(\\d+MP(?: \\([\\w\\s]+\\))?(?: \\+ \\d+MP)?(?: \\([\\w\\s]+\\))? \\| \\d+MP Front Camera)',  # General case with optional details\n",
    "        'pattern8': r'(\\d+MP(?: \\+ \\d+MP)* \\| \\d+\\.\\d+MP Front Camera)',  # Decimal point for front camera\n",
    "        'pattern9': r'(\\d+\\s*MP\\s*Front\\s*Camera)' #0MP Front Camera\n",
    "    }\n",
    "    \n",
    "    # Define a list of patterns in a prioritized order\n",
    "    pattern_order = [\n",
    "        'pattern1',\n",
    "        'pattern2',\n",
    "        'pattern3',\n",
    "        'pattern4',\n",
    "        'pattern5',\n",
    "        'pattern6',\n",
    "        'pattern7',\n",
    "        'pattern8',\n",
    "        'pattern9'\n",
    "    ]\n",
    "    \n",
    "   # Try to match each pattern in the defined order\n",
    "    for pattern_key in pattern_order:\n",
    "        match = pd.Series(description).str.extract(patterns[pattern_key])[0].values[0]\n",
    "        if pd.notna(match):\n",
    "            return pd.Series([match])\n",
    "    \n",
    "    return pd.Series([None])\n",
    "\n",
    "# Apply the function to the DataFrame\n",
    "df['camera'] = df['description'].apply(extract_camera)"
   ]
  },
  {
   "cell_type": "code",
   "execution_count": 8,
   "id": "3e67ba3e-9de4-493a-970f-f71af19a88ec",
   "metadata": {},
   "outputs": [],
   "source": [
    "# extracting and creating two new columns - screen_size_cm and screen_size_inch from description column\n",
    "pattern = r'(?i)(\\d+\\.?\\d*)\\s*cm\\s*\\((\\d+\\.?\\d*)\\s*inch\\)'\n",
    "df[['screen_size_cm', 'screen_size_inch']] = df['description'].str.extract(pattern)"
   ]
  },
  {
   "cell_type": "code",
   "execution_count": 9,
   "id": "d376e23c-3838-4268-8215-fb2b206c77a6",
   "metadata": {
    "tags": []
   },
   "outputs": [],
   "source": [
    "# Define a function to extract display information\n",
    "def extract_display(description):\n",
    "    if pd.isna(description):\n",
    "        return None\n",
    "    if re.search(r'Full HD\\+', description, re.IGNORECASE): # Full HD+ Display\n",
    "        return 'Full HD+'\n",
    "    elif re.search(r'HD\\+', description, re.IGNORECASE):    # HD+ Display\n",
    "        return 'HD+'\n",
    "    elif re.search(r'HD', description, re.IGNORECASE):    # HD Display\n",
    "        return 'HD'\n",
    "    elif re.search(r'Super Retina XDR Display', description, re.IGNORECASE):    # Super Retina XDR Display\n",
    "        return 'Super Retina XDR'\n",
    "    elif re.search(r'QVGA Display', description, re.IGNORECASE):    # QVGA Display\n",
    "        return 'QVGA'\n",
    "    else:\n",
    "        return None\n",
    "\n",
    "# Apply the function to create a new 'Display' column\n",
    "df['display'] = df['description'].apply(extract_display)"
   ]
  },
  {
   "cell_type": "code",
   "execution_count": 10,
   "id": "b9e7c699-4dd8-4ed0-a425-a7a25a47b912",
   "metadata": {},
   "outputs": [],
   "source": [
    "# extracting and creating a new ram column from description column\n",
    "def extract_ram(description):\n",
    "    # Define regex patterns\n",
    "    patterns = {\n",
    "        'pattern1': r'(\\d+\\s*GB\\s*RAM)',  # GB Ram\n",
    "        'pattern2': r'(\\d+\\s*MB\\s*RAM)'   # MB Ram\n",
    "    }\n",
    "\n",
    "    # Define a list of patterns in a prioritized order\n",
    "    pattern_order = [\n",
    "        'pattern1',\n",
    "        'pattern2'\n",
    "    ]\n",
    "\n",
    "   # Try to match each pattern in the defined order\n",
    "    for key in patterns:\n",
    "        match = pd.Series([description]).str.extract(patterns[key])\n",
    "        if not match.empty and pd.notna(match.iloc[0, 0]):\n",
    "            return match.iloc[0, 0]\n",
    "\n",
    "    return None\n",
    "\n",
    "# Apply the function to the DataFrame\n",
    "df['ram'] = df['description'].apply(extract_ram)"
   ]
  },
  {
   "cell_type": "code",
   "execution_count": 11,
   "id": "f5e9bf5e-2141-4217-a819-3dc82bccf85e",
   "metadata": {},
   "outputs": [],
   "source": [
    "# extracting and creating a new storage column from title column\n",
    "df['storage'] = df['title'].str.extract(r'(\\d+\\s*GB)')"
   ]
  },
  {
   "cell_type": "code",
   "execution_count": 12,
   "id": "20af0f2b-7af7-4cae-9d96-77b3e2fa3707",
   "metadata": {},
   "outputs": [],
   "source": [
    "# extracting storage from description column\n",
    "def extract_storage(description):\n",
    "    # Define regex patterns\n",
    "    patterns = {\n",
    "        'pattern1': r'Expandable\\s*Upto\\s*(\\d+\\s*TB)',  # TB\n",
    "        'pattern2': r'Expandable\\s*Upto\\s*(\\d+\\s*GB)'   # GB\n",
    "    }\n",
    "    \n",
    "    # Define a list of patterns in a prioritized order\n",
    "    pattern_order = [\n",
    "        'pattern1',\n",
    "        'pattern2'\n",
    "    ]\n",
    "    \n",
    "   # Try to match each pattern in the defined order\n",
    "    for key in patterns:\n",
    "        match = pd.Series([description]).str.extract(patterns[key])\n",
    "        if not match.empty and pd.notna(match.iloc[0, 0]):\n",
    "            return match.iloc[0, 0]\n",
    "    \n",
    "    return None\n",
    "\n",
    "# Apply the function to the DataFrame\n",
    "df['expandable_storage'] = df['description'].apply(extract_storage)"
   ]
  },
  {
   "cell_type": "code",
   "execution_count": 13,
   "id": "651bdc5d-6586-476c-9351-01bb7d4989e1",
   "metadata": {},
   "outputs": [],
   "source": [
    "# extracting color from title column\n",
    "df['color'] = df['title'].str.extract(r'\\(([^)]+), \\d{2,3} GB\\)')"
   ]
  },
  {
   "cell_type": "code",
   "execution_count": 14,
   "id": "aa44d6aa-25c9-47ab-bcb9-94dc0de4d384",
   "metadata": {},
   "outputs": [],
   "source": [
    "# extracting and creating a new processor column from description column\n",
    "def extract_processor(description):\n",
    "    # Define regex patterns\n",
    "    patterns = {\n",
    "        'pattern1': r'Battery\\s*(.*?Processor)',  \n",
    "        'pattern2': r'(\\b[A-Za-z0-9\\s,-]*\\bProcessor)' # A16 Bionic Chip, 6 Core Processor\n",
    "    }\n",
    "\n",
    "    # Define a list of patterns in a prioritized order\n",
    "    pattern_order = [\n",
    "        'pattern1',\n",
    "        'pattern2'\n",
    "    ]\n",
    "\n",
    "   # Try to match each pattern in the defined order\n",
    "    for key in pattern_order:\n",
    "        match = pd.Series([description]).str.extract(patterns[key])\n",
    "        if not match.empty and pd.notna(match.iloc[0, 0]):\n",
    "            # After finding a match, remove any leading 'Camera' content\n",
    "            processor = match.iloc[0, 0].split('Camera')[-1].strip()\n",
    "            return processor\n",
    "\n",
    "    return None\n",
    "\n",
    "# Apply the function to the DataFrame\n",
    "df['processor'] = df['description'].apply(extract_processor)"
   ]
  },
  {
   "cell_type": "code",
   "execution_count": 15,
   "id": "fd3b3839-6ab5-4408-8a0c-6f32be81242f",
   "metadata": {},
   "outputs": [],
   "source": [
    "# extracting and creating a new ram column from description column\n",
    "def extract_battery(description):\n",
    "    # Define regex patterns\n",
    "    patterns = {\n",
    "        'pattern1': r'(\\d+\\s*mAh\\s*Battery)',  # 5000 mAh Battery\n",
    "        'pattern2': r'(\\d+\\s*mAh\\s*Lithium\\s*Ion\\s*Battery)', # 800 mAh Lithium Ion Battery\n",
    "        'pattern3': r'(\\d+\\s*mAh\\s*Lithium\\s*ion\\s*Battery)', # 6000 mAh Lithium ion Battery\n",
    "        'pattern4': r'(\\d+\\s*mAh\\s*Lithium-ion\\s*Polymer\\s*Battery)', #4800 mAh Lithium-ion Polymer Battery\n",
    "        'pattern5': r'(\\d+\\s*mAh\\s*Lithium\\s*Ion\\s*Polymer\\s*Battery)', #4800 mAh Lithium Ion Polymer Battery\n",
    "        'pattern6': r'(\\d+\\s*mAh\\s*Li-ion\\s*Polymer\\s*Battery)', #5000 mAh Li-ion Polymer Battery\n",
    "        'pattern7': r'(\\d+\\s*mAh\\s*Li-ion\\s*Battery)', #1000 mAh Li-ion Battery\n",
    "        'pattern8': r'(\\d+\\s*mAh\\s*Li-Ion\\s*Battery)', #1000 mAh Li-Ion Battery\n",
    "        'pattern9': r'(\\d+\\s*mAh\\s*LiPo\\s*Battery)', #5000 mAh LiPo Battery\n",
    "        'pattern10': r'(\\d+\\s*mAh\\s*Li-Polymer\\s*Battery)' #5000 mAh Li-Polymer Battery\n",
    "    }\n",
    "\n",
    "    # Define a list of patterns in a prioritized order\n",
    "    pattern_order = [\n",
    "        'pattern1',\n",
    "        'pattern2',\n",
    "        'pattern3',\n",
    "        'pattern4',\n",
    "        'pattern5',\n",
    "        'pattern6',\n",
    "        'pattern7',\n",
    "        'pattern8',\n",
    "        'pattern9',\n",
    "        'pattern10'\n",
    "    ]\n",
    "\n",
    "   # Try to match each pattern in the defined order\n",
    "    for key in patterns:\n",
    "        match = pd.Series([description]).str.extract(patterns[key])\n",
    "        if not match.empty and pd.notna(match.iloc[0, 0]):\n",
    "            return match.iloc[0, 0]\n",
    "\n",
    "    return None\n",
    "\n",
    "# Apply the function to the DataFrame\n",
    "df['battery'] = df['description'].apply(extract_battery)"
   ]
  },
  {
   "cell_type": "code",
   "execution_count": 16,
   "id": "1307f941-ad00-45f0-a2fd-bccff78c8d81",
   "metadata": {},
   "outputs": [],
   "source": [
    "# creating a new rating column from ratings_reviews column\n",
    "df['rating'] = df['ratings_reviews'].str.extract(r'(.*Ratings)')"
   ]
  },
  {
   "cell_type": "code",
   "execution_count": 17,
   "id": "6f876b42-7f0d-4f98-be3a-6fe83ebe16f5",
   "metadata": {},
   "outputs": [],
   "source": [
    "# creating a new review column from ratings_reviews column\n",
    "df['review'] = df['ratings_reviews'].str.extract(r'&\\s*(.*Reviews)')"
   ]
  },
  {
   "cell_type": "code",
   "execution_count": 18,
   "id": "25427ac0-9f0d-456f-a970-d9d692af94d1",
   "metadata": {},
   "outputs": [],
   "source": [
    "# renaming column\n",
    "df.to_csv('data_extraction_phones_dataset.csv')"
   ]
  },
  {
   "cell_type": "code",
   "execution_count": 19,
   "id": "f77b81c6-1b50-47fd-ab84-895ecbede2b5",
   "metadata": {},
   "outputs": [
    {
     "data": {
      "text/plain": [
       "Index(['Unnamed: 0', 'title', 'price', 'original_price', 'discount', 'star',\n",
       "       'ratings_reviews', 'description', 'brand', 'model', 'camera',\n",
       "       'screen_size_cm', 'screen_size_inch', 'display', 'ram', 'storage',\n",
       "       'expandable_storage', 'color', 'processor', 'battery', 'rating',\n",
       "       'review'],\n",
       "      dtype='object')"
      ]
     },
     "execution_count": 19,
     "metadata": {},
     "output_type": "execute_result"
    }
   ],
   "source": [
    "df.columns"
   ]
  },
  {
   "cell_type": "code",
   "execution_count": null,
   "id": "a03209d2-4b86-4ff1-b28f-72eda96cb3f7",
   "metadata": {},
   "outputs": [],
   "source": []
  }
 ],
 "metadata": {
  "kernelspec": {
   "display_name": "Python 3 (ipykernel)",
   "language": "python",
   "name": "python3"
  },
  "language_info": {
   "codemirror_mode": {
    "name": "ipython",
    "version": 3
   },
   "file_extension": ".py",
   "mimetype": "text/x-python",
   "name": "python",
   "nbconvert_exporter": "python",
   "pygments_lexer": "ipython3",
   "version": "3.12.5"
  }
 },
 "nbformat": 4,
 "nbformat_minor": 5
}
